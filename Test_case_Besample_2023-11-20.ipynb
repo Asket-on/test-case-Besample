{
 "cells": [
  {
   "cell_type": "markdown",
   "id": "50e0c204-e302-48e1-8762-e38bceefe774",
   "metadata": {},
   "source": [
    "# Data analyst test task Besample\n",
    " \n",
    "You have a [list of conference participants](https://docs.google.com/spreadsheets/d/1cYFxEhuJBt4fJNrrLgbF4LblzQ9Ru_9nj6Yyxa7FmCQ/edit?usp=sharing). We want to find all the participants who work in academia. Filter the conference participants list so that:\n",
    "\n",
    "- you have there only people who has left emails that belong to university domains;\n",
    "- the table includes the name of the university that the email belongs to\n",
    "\n",
    "Additional but not necessary:\n",
    "\n",
    "- table includes the rank of the university in the World University Rankings 1.2 if it has any\n",
    "\n",
    "Useful links:\n",
    "\n",
    "- [https://github.com/Hipo/university-domains-list](https://github.com/Hipo/university-domains-list)\n",
    "- [World University Rankings 1.2](https://docs.google.com/spreadsheets/d/19OKuHOPf813i0_FqnsVlgRjDj4-mrFSi/edit?usp=sharing&ouid=114261480763518747573&rtpof=true&sd=true)"
   ]
  },
  {
   "cell_type": "code",
   "execution_count": 1,
   "id": "425f24c3-c8e8-4b2b-ad86-f82538ee73c1",
   "metadata": {},
   "outputs": [],
   "source": [
    "import requests\n",
    "import json\n",
    "import pandas as pd\n",
    "import numpy as np"
   ]
  },
  {
   "cell_type": "markdown",
   "id": "bdcc18a2-1eed-425c-8ff5-1046bfe44761",
   "metadata": {},
   "source": [
    "## Основная таблица `list of conference participants`"
   ]
  },
  {
   "cell_type": "code",
   "execution_count": 2,
   "id": "0199a00b-c4cf-4136-9b07-571b2d6b3073",
   "metadata": {},
   "outputs": [],
   "source": [
    "df = pd.read_csv('/home/asketon/Documents/Besample/APA List Main - List.csv')"
   ]
  },
  {
   "cell_type": "code",
   "execution_count": 3,
   "id": "9ec87698-754a-4b3b-a2bc-ad6d319901af",
   "metadata": {
    "scrolled": true
   },
   "outputs": [
    {
     "data": {
      "text/html": [
       "<div>\n",
       "<style scoped>\n",
       "    .dataframe tbody tr th:only-of-type {\n",
       "        vertical-align: middle;\n",
       "    }\n",
       "\n",
       "    .dataframe tbody tr th {\n",
       "        vertical-align: top;\n",
       "    }\n",
       "\n",
       "    .dataframe thead th {\n",
       "        text-align: right;\n",
       "    }\n",
       "</style>\n",
       "<table border=\"1\" class=\"dataframe\">\n",
       "  <thead>\n",
       "    <tr style=\"text-align: right;\">\n",
       "      <th></th>\n",
       "      <th>torosyan.adam@gmail.com</th>\n",
       "      <th>Web address</th>\n",
       "      <th>Contact Name</th>\n",
       "      <th>First Name</th>\n",
       "      <th>Middle Name</th>\n",
       "      <th>Last Name</th>\n",
       "      <th>Title</th>\n",
       "      <th>Address</th>\n",
       "      <th>Address1</th>\n",
       "      <th>City</th>\n",
       "      <th>State</th>\n",
       "      <th>ZIP Code</th>\n",
       "      <th>Country</th>\n",
       "      <th>Phone Number</th>\n",
       "      <th>Employees</th>\n",
       "      <th>Revenue</th>\n",
       "      <th>Industry</th>\n",
       "      <th>Email</th>\n",
       "    </tr>\n",
       "  </thead>\n",
       "  <tbody>\n",
       "    <tr>\n",
       "      <th>0</th>\n",
       "      <td>NATIVIDAD MEDICAL CENTER</td>\n",
       "      <td>http://www.natividad.com</td>\n",
       "      <td>A Pascual</td>\n",
       "      <td>A</td>\n",
       "      <td>--</td>\n",
       "      <td>Pascual</td>\n",
       "      <td>Psychologist</td>\n",
       "      <td>1441 Constitution Blvd</td>\n",
       "      <td>--</td>\n",
       "      <td>Salinas</td>\n",
       "      <td>CA</td>\n",
       "      <td>93915</td>\n",
       "      <td>USA</td>\n",
       "      <td>831-755-4111</td>\n",
       "      <td>--</td>\n",
       "      <td>--</td>\n",
       "      <td>Healthcare</td>\n",
       "      <td>stephanie_pascual@natividad.com</td>\n",
       "    </tr>\n",
       "    <tr>\n",
       "      <th>1</th>\n",
       "      <td>COMMUNITY SERVICE BOARD OF MIDDLE GEORGIA</td>\n",
       "      <td>http://www.csbmg.com</td>\n",
       "      <td>A J Giannini</td>\n",
       "      <td>A</td>\n",
       "      <td>J</td>\n",
       "      <td>Giannini</td>\n",
       "      <td>Psychologist</td>\n",
       "      <td>2121a Bellevue Rd Bldg 7</td>\n",
       "      <td>--</td>\n",
       "      <td>Dublin</td>\n",
       "      <td>GA</td>\n",
       "      <td>31021-9040</td>\n",
       "      <td>USA</td>\n",
       "      <td>478-272-1190</td>\n",
       "      <td>369</td>\n",
       "      <td>$0.95</td>\n",
       "      <td>Healthcare</td>\n",
       "      <td>agiannini@csbmg.com</td>\n",
       "    </tr>\n",
       "    <tr>\n",
       "      <th>2</th>\n",
       "      <td>COOK CHILDREN'S HEALTH CARE SYSTEM</td>\n",
       "      <td>http://www.cookchildrens.org</td>\n",
       "      <td>A Winter</td>\n",
       "      <td>A</td>\n",
       "      <td>--</td>\n",
       "      <td>Winter</td>\n",
       "      <td>Psychologist</td>\n",
       "      <td>801 Seventh Avenue</td>\n",
       "      <td>--</td>\n",
       "      <td>Fort Worth</td>\n",
       "      <td>TX</td>\n",
       "      <td>76104</td>\n",
       "      <td>USA</td>\n",
       "      <td>682-885-4555</td>\n",
       "      <td>2000</td>\n",
       "      <td>$121.20</td>\n",
       "      <td>Healthcare</td>\n",
       "      <td>aw@cookchildrens.org</td>\n",
       "    </tr>\n",
       "    <tr>\n",
       "      <th>3</th>\n",
       "      <td>ALTRU HOSPITAL</td>\n",
       "      <td>http://www.altru.org</td>\n",
       "      <td>A Cooley</td>\n",
       "      <td>A</td>\n",
       "      <td>--</td>\n",
       "      <td>Cooley</td>\n",
       "      <td>Psychologist</td>\n",
       "      <td>1200 South Columbia Road</td>\n",
       "      <td>--</td>\n",
       "      <td>Grand Forks</td>\n",
       "      <td>ND</td>\n",
       "      <td>58208</td>\n",
       "      <td>USA</td>\n",
       "      <td>701-780-5200</td>\n",
       "      <td>--</td>\n",
       "      <td>--</td>\n",
       "      <td>Healthcare</td>\n",
       "      <td>marvincooley@altru.org</td>\n",
       "    </tr>\n",
       "    <tr>\n",
       "      <th>4</th>\n",
       "      <td>NUFFIELD HOSPITAL TAUNTON</td>\n",
       "      <td>http://www.nuffieldhospitals.org.uk</td>\n",
       "      <td>A M Easton</td>\n",
       "      <td>A M</td>\n",
       "      <td>--</td>\n",
       "      <td>Easton</td>\n",
       "      <td>Psychologist</td>\n",
       "      <td>Nuffield House, 1-4 The</td>\n",
       "      <td>Crescent, Surbiton</td>\n",
       "      <td>London</td>\n",
       "      <td>ENGLAND</td>\n",
       "      <td>KT6 4BN</td>\n",
       "      <td>United Kingdom</td>\n",
       "      <td>44-1926427971</td>\n",
       "      <td>225</td>\n",
       "      <td>$5.07</td>\n",
       "      <td>Healthcare</td>\n",
       "      <td>a.easton@nuffieldhospitals.org.uk</td>\n",
       "    </tr>\n",
       "  </tbody>\n",
       "</table>\n",
       "</div>"
      ],
      "text/plain": [
       "                     torosyan.adam@gmail.com  \\\n",
       "0                   NATIVIDAD MEDICAL CENTER   \n",
       "1  COMMUNITY SERVICE BOARD OF MIDDLE GEORGIA   \n",
       "2         COOK CHILDREN'S HEALTH CARE SYSTEM   \n",
       "3                             ALTRU HOSPITAL   \n",
       "4                  NUFFIELD HOSPITAL TAUNTON   \n",
       "\n",
       "                           Web address  Contact Name First Name Middle Name  \\\n",
       "0             http://www.natividad.com     A Pascual          A          --   \n",
       "1                 http://www.csbmg.com  A J Giannini          A           J   \n",
       "2         http://www.cookchildrens.org      A Winter          A          --   \n",
       "3                 http://www.altru.org      A Cooley          A          --   \n",
       "4  http://www.nuffieldhospitals.org.uk    A M Easton        A M          --   \n",
       "\n",
       "  Last Name         Title                   Address            Address1  \\\n",
       "0   Pascual  Psychologist    1441 Constitution Blvd                  --   \n",
       "1  Giannini  Psychologist  2121a Bellevue Rd Bldg 7                  --   \n",
       "2    Winter  Psychologist        801 Seventh Avenue                  --   \n",
       "3    Cooley  Psychologist  1200 South Columbia Road                  --   \n",
       "4    Easton  Psychologist   Nuffield House, 1-4 The  Crescent, Surbiton   \n",
       "\n",
       "          City    State    ZIP Code         Country   Phone Number Employees  \\\n",
       "0      Salinas       CA       93915             USA   831-755-4111        --   \n",
       "1       Dublin       GA  31021-9040             USA   478-272-1190       369   \n",
       "2   Fort Worth       TX       76104             USA   682-885-4555      2000   \n",
       "3  Grand Forks       ND       58208             USA   701-780-5200        --   \n",
       "4       London  ENGLAND     KT6 4BN  United Kingdom  44-1926427971       225   \n",
       "\n",
       "   Revenue    Industry                              Email  \n",
       "0       --  Healthcare    stephanie_pascual@natividad.com  \n",
       "1    $0.95  Healthcare                agiannini@csbmg.com  \n",
       "2  $121.20  Healthcare               aw@cookchildrens.org  \n",
       "3       --  Healthcare             marvincooley@altru.org  \n",
       "4    $5.07  Healthcare  a.easton@nuffieldhospitals.org.uk  "
      ]
     },
     "execution_count": 3,
     "metadata": {},
     "output_type": "execute_result"
    }
   ],
   "source": [
    "df.head()"
   ]
  },
  {
   "cell_type": "markdown",
   "id": "238b422a-9c89-48ec-99be-f277e6f57d6f",
   "metadata": {},
   "source": [
    "Вероятно в столбце `torosyan.adam@gmail.com` наименования учреждений, заполненные участниками конференции"
   ]
  },
  {
   "cell_type": "code",
   "execution_count": 4,
   "id": "8ba0c7f2-ea61-474d-af37-ff7ba157018d",
   "metadata": {},
   "outputs": [],
   "source": [
    "df.rename(columns = {'torosyan.adam@gmail.com':'free_description_company'}, inplace=True)"
   ]
  },
  {
   "cell_type": "code",
   "execution_count": 5,
   "id": "13e858a7-b68a-4bcd-ac93-e783b4484a03",
   "metadata": {
    "scrolled": true
   },
   "outputs": [
    {
     "name": "stdout",
     "output_type": "stream",
     "text": [
      "<class 'pandas.core.frame.DataFrame'>\n",
      "RangeIndex: 15409 entries, 0 to 15408\n",
      "Data columns (total 18 columns):\n",
      " #   Column                    Non-Null Count  Dtype \n",
      "---  ------                    --------------  ----- \n",
      " 0   free_description_company  15409 non-null  object\n",
      " 1   Web address               15409 non-null  object\n",
      " 2   Contact Name              15409 non-null  object\n",
      " 3   First Name                15409 non-null  object\n",
      " 4   Middle Name               15409 non-null  object\n",
      " 5   Last Name                 15409 non-null  object\n",
      " 6   Title                     15409 non-null  object\n",
      " 7   Address                   15409 non-null  object\n",
      " 8   Address1                  15409 non-null  object\n",
      " 9   City                      15409 non-null  object\n",
      " 10  State                     15409 non-null  object\n",
      " 11  ZIP Code                  15409 non-null  object\n",
      " 12  Country                   15409 non-null  object\n",
      " 13  Phone Number              15409 non-null  object\n",
      " 14  Employees                 15409 non-null  object\n",
      " 15  Revenue                   15409 non-null  object\n",
      " 16  Industry                  15409 non-null  object\n",
      " 17  Email                     15409 non-null  object\n",
      "dtypes: object(18)\n",
      "memory usage: 2.1+ MB\n"
     ]
    }
   ],
   "source": [
    "df.info()"
   ]
  },
  {
   "cell_type": "markdown",
   "id": "6b13555b-e57d-4784-bf8d-85095195fa47",
   "metadata": {},
   "source": []
  },
  {
   "cell_type": "code",
   "execution_count": 6,
   "id": "bcf51f51-46cb-4698-894e-711b8e01a695",
   "metadata": {},
   "outputs": [],
   "source": [
    "# Создание столбцов с доменами из email\n",
    "df['email_domain'] = df['Email'].apply(lambda x: x.split('@')[-1])\n",
    "df['top_level_domain'] = df['Email'].apply(lambda x: x.split('.')[-1])"
   ]
  },
  {
   "cell_type": "code",
   "execution_count": 7,
   "id": "a258df51-61f2-402f-b6e0-14cb0a7e3f3a",
   "metadata": {},
   "outputs": [
    {
     "data": {
      "text/html": [
       "<div>\n",
       "<style scoped>\n",
       "    .dataframe tbody tr th:only-of-type {\n",
       "        vertical-align: middle;\n",
       "    }\n",
       "\n",
       "    .dataframe tbody tr th {\n",
       "        vertical-align: top;\n",
       "    }\n",
       "\n",
       "    .dataframe thead th {\n",
       "        text-align: right;\n",
       "    }\n",
       "</style>\n",
       "<table border=\"1\" class=\"dataframe\">\n",
       "  <thead>\n",
       "    <tr style=\"text-align: right;\">\n",
       "      <th></th>\n",
       "      <th>free_description_company</th>\n",
       "      <th>Web address</th>\n",
       "      <th>Contact Name</th>\n",
       "      <th>First Name</th>\n",
       "      <th>Middle Name</th>\n",
       "      <th>Last Name</th>\n",
       "      <th>Title</th>\n",
       "      <th>Address</th>\n",
       "      <th>Address1</th>\n",
       "      <th>City</th>\n",
       "      <th>State</th>\n",
       "      <th>ZIP Code</th>\n",
       "      <th>Country</th>\n",
       "      <th>Phone Number</th>\n",
       "      <th>Employees</th>\n",
       "      <th>Revenue</th>\n",
       "      <th>Industry</th>\n",
       "      <th>Email</th>\n",
       "      <th>email_domain</th>\n",
       "      <th>top_level_domain</th>\n",
       "    </tr>\n",
       "  </thead>\n",
       "  <tbody>\n",
       "    <tr>\n",
       "      <th>count</th>\n",
       "      <td>15409</td>\n",
       "      <td>15409</td>\n",
       "      <td>15409</td>\n",
       "      <td>15409</td>\n",
       "      <td>15409</td>\n",
       "      <td>15409</td>\n",
       "      <td>15409</td>\n",
       "      <td>15409</td>\n",
       "      <td>15409</td>\n",
       "      <td>15409</td>\n",
       "      <td>15409</td>\n",
       "      <td>15409</td>\n",
       "      <td>15409</td>\n",
       "      <td>15409</td>\n",
       "      <td>15409</td>\n",
       "      <td>15409</td>\n",
       "      <td>15409</td>\n",
       "      <td>15409</td>\n",
       "      <td>15409</td>\n",
       "      <td>15409</td>\n",
       "    </tr>\n",
       "    <tr>\n",
       "      <th>unique</th>\n",
       "      <td>5203</td>\n",
       "      <td>3659</td>\n",
       "      <td>15083</td>\n",
       "      <td>4554</td>\n",
       "      <td>779</td>\n",
       "      <td>10207</td>\n",
       "      <td>1</td>\n",
       "      <td>6333</td>\n",
       "      <td>528</td>\n",
       "      <td>1959</td>\n",
       "      <td>93</td>\n",
       "      <td>5204</td>\n",
       "      <td>11</td>\n",
       "      <td>6122</td>\n",
       "      <td>812</td>\n",
       "      <td>1495</td>\n",
       "      <td>1</td>\n",
       "      <td>15409</td>\n",
       "      <td>3560</td>\n",
       "      <td>17</td>\n",
       "    </tr>\n",
       "    <tr>\n",
       "      <th>top</th>\n",
       "      <td>KAISER PERMANENTE HOSPITAL</td>\n",
       "      <td>--</td>\n",
       "      <td>Jon Allen</td>\n",
       "      <td>John</td>\n",
       "      <td>--</td>\n",
       "      <td>Smith</td>\n",
       "      <td>Psychologist</td>\n",
       "      <td>1 Gustave L Levy Place</td>\n",
       "      <td>--</td>\n",
       "      <td>New York</td>\n",
       "      <td>TX</td>\n",
       "      <td>10029-6574</td>\n",
       "      <td>USA</td>\n",
       "      <td>212-241-6500</td>\n",
       "      <td>--</td>\n",
       "      <td>--</td>\n",
       "      <td>Healthcare</td>\n",
       "      <td>stephanie_pascual@natividad.com</td>\n",
       "      <td>aol.com</td>\n",
       "      <td>org</td>\n",
       "    </tr>\n",
       "    <tr>\n",
       "      <th>freq</th>\n",
       "      <td>306</td>\n",
       "      <td>931</td>\n",
       "      <td>3</td>\n",
       "      <td>313</td>\n",
       "      <td>11523</td>\n",
       "      <td>65</td>\n",
       "      <td>15409</td>\n",
       "      <td>262</td>\n",
       "      <td>14243</td>\n",
       "      <td>658</td>\n",
       "      <td>1699</td>\n",
       "      <td>342</td>\n",
       "      <td>14792</td>\n",
       "      <td>359</td>\n",
       "      <td>5823</td>\n",
       "      <td>5984</td>\n",
       "      <td>15409</td>\n",
       "      <td>1</td>\n",
       "      <td>468</td>\n",
       "      <td>6909</td>\n",
       "    </tr>\n",
       "  </tbody>\n",
       "</table>\n",
       "</div>"
      ],
      "text/plain": [
       "          free_description_company Web address Contact Name First Name  \\\n",
       "count                        15409       15409        15409      15409   \n",
       "unique                        5203        3659        15083       4554   \n",
       "top     KAISER PERMANENTE HOSPITAL          --    Jon Allen       John   \n",
       "freq                           306         931            3        313   \n",
       "\n",
       "       Middle Name Last Name         Title                 Address Address1  \\\n",
       "count        15409     15409         15409                   15409    15409   \n",
       "unique         779     10207             1                    6333      528   \n",
       "top             --     Smith  Psychologist  1 Gustave L Levy Place       --   \n",
       "freq         11523        65         15409                     262    14243   \n",
       "\n",
       "            City  State    ZIP Code Country  Phone Number Employees Revenue  \\\n",
       "count      15409  15409       15409   15409         15409     15409   15409   \n",
       "unique      1959     93        5204      11          6122       812    1495   \n",
       "top     New York     TX  10029-6574     USA  212-241-6500        --      --   \n",
       "freq         658   1699         342   14792           359      5823    5984   \n",
       "\n",
       "          Industry                            Email email_domain  \\\n",
       "count        15409                            15409        15409   \n",
       "unique           1                            15409         3560   \n",
       "top     Healthcare  stephanie_pascual@natividad.com      aol.com   \n",
       "freq         15409                                1          468   \n",
       "\n",
       "       top_level_domain  \n",
       "count             15409  \n",
       "unique               17  \n",
       "top                 org  \n",
       "freq               6909  "
      ]
     },
     "execution_count": 7,
     "metadata": {},
     "output_type": "execute_result"
    }
   ],
   "source": [
    "df.describe()"
   ]
  },
  {
   "cell_type": "code",
   "execution_count": 8,
   "id": "aac79868-23b2-465f-9fab-d3c5ba68998b",
   "metadata": {
    "scrolled": true
   },
   "outputs": [
    {
     "data": {
      "text/plain": [
       "top_level_domain\n",
       "org     6909\n",
       "com     5036\n",
       "edu     2291\n",
       "ca       394\n",
       "net      388\n",
       "us       236\n",
       "uk        78\n",
       "au        46\n",
       "info      13\n",
       "mx         5\n",
       "cc         3\n",
       "jp         2\n",
       "be         2\n",
       "md         2\n",
       "de         2\n",
       "ie         1\n",
       "in         1\n",
       "Name: count, dtype: int64"
      ]
     },
     "execution_count": 8,
     "metadata": {},
     "output_type": "execute_result"
    }
   ],
   "source": [
    "df['top_level_domain'].value_counts()"
   ]
  },
  {
   "cell_type": "markdown",
   "id": "9f97b2d2-6d93-4d4f-acf5-2aeee6d11ff3",
   "metadata": {},
   "source": [
    "Описание окончаний доменных имен верхнего уровня (Top-Level Domains, TLDs)\n",
    "- .org (Organization): Обычно используется некоммерческими организациями, общественными объединениями и фондами. Однако с течением времени стал использоваться и коммерческими организациями.\n",
    "\n",
    "- .com (Commercial): Самый распространенный и широко используемый TLD. Предназначен для коммерческих организаций, но не ограничивается ими.\n",
    "\n",
    "- .edu (Education): Используется образовательными учреждениями, такими как университеты, колледжи.\n",
    "\n",
    "- .ca (Canada): Представляет Канаду и является страновым доменом верхнего уровня для этой страны.\n",
    "\n",
    "- .net (Network): Изначально предназначен для сетевых организаций, но с течением времени использование расширилось.\n",
    "\n",
    "- .us (United States): Страновой домен верхнего уровня для Соединенных Штатов Америки.\n",
    "\n",
    "- .uk (United Kingdom): Страновой домен верхнего уровня для Великобритании.\n",
    "\n",
    "- .au (Australia): Страновой домен верхнего уровня для Австралии.\n",
    "\n",
    "- .info (Information): Используется для информационных ресурсов.\n",
    "\n",
    "- .mx (Mexico): Страновой домен верхнего уровня для Мексики.\n",
    "\n",
    "- .cc (Cocos Islands): Доступен для регистрации без ограничений, часто используется как альтернатива \".com\".\n",
    "\n",
    ".edu — общий домен верхнего уровня для образовательных учреждений. «Домен предназначен для аккредитованных высших учебных заведений США», и это намерение строго соблюдается. "
   ]
  },
  {
   "cell_type": "code",
   "execution_count": 9,
   "id": "ea90a99a-11c6-41e1-8794-deed05b9a0db",
   "metadata": {},
   "outputs": [
    {
     "data": {
      "text/html": [
       "<div>\n",
       "<style scoped>\n",
       "    .dataframe tbody tr th:only-of-type {\n",
       "        vertical-align: middle;\n",
       "    }\n",
       "\n",
       "    .dataframe tbody tr th {\n",
       "        vertical-align: top;\n",
       "    }\n",
       "\n",
       "    .dataframe thead th {\n",
       "        text-align: right;\n",
       "    }\n",
       "</style>\n",
       "<table border=\"1\" class=\"dataframe\">\n",
       "  <thead>\n",
       "    <tr style=\"text-align: right;\">\n",
       "      <th></th>\n",
       "      <th>free_description_company</th>\n",
       "      <th>Web address</th>\n",
       "      <th>Contact Name</th>\n",
       "      <th>First Name</th>\n",
       "      <th>Middle Name</th>\n",
       "      <th>Last Name</th>\n",
       "      <th>Title</th>\n",
       "      <th>Address</th>\n",
       "      <th>Address1</th>\n",
       "      <th>City</th>\n",
       "      <th>State</th>\n",
       "      <th>ZIP Code</th>\n",
       "      <th>Country</th>\n",
       "      <th>Phone Number</th>\n",
       "      <th>Employees</th>\n",
       "      <th>Revenue</th>\n",
       "      <th>Industry</th>\n",
       "      <th>Email</th>\n",
       "      <th>email_domain</th>\n",
       "      <th>top_level_domain</th>\n",
       "    </tr>\n",
       "  </thead>\n",
       "  <tbody>\n",
       "    <tr>\n",
       "      <th>count</th>\n",
       "      <td>2291</td>\n",
       "      <td>2291</td>\n",
       "      <td>2291</td>\n",
       "      <td>2291</td>\n",
       "      <td>2291</td>\n",
       "      <td>2291</td>\n",
       "      <td>2291</td>\n",
       "      <td>2291</td>\n",
       "      <td>2291</td>\n",
       "      <td>2291</td>\n",
       "      <td>2291</td>\n",
       "      <td>2291</td>\n",
       "      <td>2291</td>\n",
       "      <td>2291</td>\n",
       "      <td>2291</td>\n",
       "      <td>2291</td>\n",
       "      <td>2291</td>\n",
       "      <td>2291</td>\n",
       "      <td>2291</td>\n",
       "      <td>2291</td>\n",
       "    </tr>\n",
       "    <tr>\n",
       "      <th>unique</th>\n",
       "      <td>567</td>\n",
       "      <td>446</td>\n",
       "      <td>2272</td>\n",
       "      <td>1082</td>\n",
       "      <td>224</td>\n",
       "      <td>1983</td>\n",
       "      <td>1</td>\n",
       "      <td>730</td>\n",
       "      <td>54</td>\n",
       "      <td>313</td>\n",
       "      <td>49</td>\n",
       "      <td>615</td>\n",
       "      <td>2</td>\n",
       "      <td>715</td>\n",
       "      <td>182</td>\n",
       "      <td>204</td>\n",
       "      <td>1</td>\n",
       "      <td>2291</td>\n",
       "      <td>414</td>\n",
       "      <td>1</td>\n",
       "    </tr>\n",
       "    <tr>\n",
       "      <th>top</th>\n",
       "      <td>BROWN UNIVERSITY</td>\n",
       "      <td>http://www.brown.edu</td>\n",
       "      <td>Alexandre Todorov</td>\n",
       "      <td>Michael</td>\n",
       "      <td>--</td>\n",
       "      <td>Miller</td>\n",
       "      <td>Psychologist</td>\n",
       "      <td>1 Gustave L Levy Place</td>\n",
       "      <td>--</td>\n",
       "      <td>New York</td>\n",
       "      <td>NY</td>\n",
       "      <td>10029-6574</td>\n",
       "      <td>USA</td>\n",
       "      <td>212-241-6500</td>\n",
       "      <td>--</td>\n",
       "      <td>--</td>\n",
       "      <td>Healthcare</td>\n",
       "      <td>aalok.turakhia@emory.edu</td>\n",
       "      <td>mssm.edu</td>\n",
       "      <td>edu</td>\n",
       "    </tr>\n",
       "    <tr>\n",
       "      <th>freq</th>\n",
       "      <td>176</td>\n",
       "      <td>176</td>\n",
       "      <td>2</td>\n",
       "      <td>38</td>\n",
       "      <td>1558</td>\n",
       "      <td>6</td>\n",
       "      <td>2291</td>\n",
       "      <td>237</td>\n",
       "      <td>2205</td>\n",
       "      <td>318</td>\n",
       "      <td>443</td>\n",
       "      <td>240</td>\n",
       "      <td>2286</td>\n",
       "      <td>256</td>\n",
       "      <td>626</td>\n",
       "      <td>639</td>\n",
       "      <td>2291</td>\n",
       "      <td>1</td>\n",
       "      <td>261</td>\n",
       "      <td>2291</td>\n",
       "    </tr>\n",
       "  </tbody>\n",
       "</table>\n",
       "</div>"
      ],
      "text/plain": [
       "       free_description_company           Web address       Contact Name  \\\n",
       "count                      2291                  2291               2291   \n",
       "unique                      567                   446               2272   \n",
       "top            BROWN UNIVERSITY  http://www.brown.edu  Alexandre Todorov   \n",
       "freq                        176                   176                  2   \n",
       "\n",
       "       First Name Middle Name Last Name         Title                 Address  \\\n",
       "count        2291        2291      2291          2291                    2291   \n",
       "unique       1082         224      1983             1                     730   \n",
       "top       Michael          --    Miller  Psychologist  1 Gustave L Levy Place   \n",
       "freq           38        1558         6          2291                     237   \n",
       "\n",
       "       Address1      City State    ZIP Code Country  Phone Number Employees  \\\n",
       "count      2291      2291  2291        2291    2291          2291      2291   \n",
       "unique       54       313    49         615       2           715       182   \n",
       "top          --  New York    NY  10029-6574     USA  212-241-6500        --   \n",
       "freq       2205       318   443         240    2286           256       626   \n",
       "\n",
       "       Revenue    Industry                     Email email_domain  \\\n",
       "count     2291        2291                      2291         2291   \n",
       "unique     204           1                      2291          414   \n",
       "top         --  Healthcare  aalok.turakhia@emory.edu     mssm.edu   \n",
       "freq       639        2291                         1          261   \n",
       "\n",
       "       top_level_domain  \n",
       "count              2291  \n",
       "unique                1  \n",
       "top                 edu  \n",
       "freq               2291  "
      ]
     },
     "execution_count": 9,
     "metadata": {},
     "output_type": "execute_result"
    }
   ],
   "source": [
    "df[df['top_level_domain'] == 'edu'].describe()"
   ]
  },
  {
   "cell_type": "markdown",
   "id": "d1aa13db-b39e-4e3b-807b-cdde4356b134",
   "metadata": {},
   "source": [
    "проверка на дубликаты:"
   ]
  },
  {
   "cell_type": "code",
   "execution_count": 10,
   "id": "d54b8ee4-6e61-455d-91a6-9a87debef1d0",
   "metadata": {},
   "outputs": [
    {
     "data": {
      "text/plain": [
       "0"
      ]
     },
     "execution_count": 10,
     "metadata": {},
     "output_type": "execute_result"
    }
   ],
   "source": [
    "df.duplicated().sum()"
   ]
  },
  {
   "cell_type": "markdown",
   "id": "ef1e5f47-e8f7-4201-8bfa-67ca3f73f86e",
   "metadata": {
    "jp-MarkdownHeadingCollapsed": true
   },
   "source": [
    "### Выводы:\n",
    "\n",
    "В таблице 15408 строк. Судя по доменам, у нас до 3560 компаний зарегистрировано на конференцию. 2291 строк относится к 414 доменам аккредитованным высшим учебным заведениям США с окончаниием домена `.edu` (15% от всех участников). Мы можем использовать это для нашей задачи."
   ]
  },
  {
   "cell_type": "markdown",
   "id": "32eae9be-5ae1-47cb-a7b5-d3ab51addc5d",
   "metadata": {},
   "source": [
    "## Таблица `university-domains-list` с Hipo"
   ]
  },
  {
   "cell_type": "code",
   "execution_count": 11,
   "id": "84caadda-07c3-440c-8fcd-3a17f6ad06a6",
   "metadata": {},
   "outputs": [
    {
     "data": {
      "text/plain": [
       "'[{\"alpha_two_code\": \"DE\", \"domains\": [\"uni-kl.de\"], \"web_pages\": [\"http://www.uni-kl.de/\"], \"name\": \"Universit\\\\u00e4t Kaiserslautern\", \"state-province\": null, \"country\": \"Germany\"}, {\"alpha_two_code\": \"DE\", \"domains\": [\"fh-kl.de\"], \"web_pages\": [\"http://www.fh-kl.de/\"], \"name\": \"Fachhochschule Kaiserslautern\", \"state-province\": null, \"country\": \"Germany\"}]'"
      ]
     },
     "execution_count": 11,
     "metadata": {},
     "output_type": "execute_result"
    }
   ],
   "source": [
    "requests.get(\"http://universities.hipolabs.com/search?name=KAISER\").text"
   ]
  },
  {
   "cell_type": "code",
   "execution_count": 12,
   "id": "d91100d5-7f0b-454a-acde-2b892c283d88",
   "metadata": {},
   "outputs": [
    {
     "name": "stdout",
     "output_type": "stream",
     "text": [
      "200\n"
     ]
    }
   ],
   "source": [
    "api_response = requests.get(\"http://universities.hipolabs.com/search?\")\n",
    "print(api_response.status_code)"
   ]
  },
  {
   "cell_type": "code",
   "execution_count": 13,
   "id": "ed8ee227-5810-4e9b-8b86-b86c8e666265",
   "metadata": {},
   "outputs": [],
   "source": [
    "# Проверка успешности запроса\n",
    "if api_response.status_code == 200:\n",
    "    # Извлечение текстового содержимого ответа\n",
    "    response_text = api_response.text\n",
    "\n",
    "    # Преобразование текстового содержимого в формат JSON\n",
    "    data = json.loads(response_text)\n",
    "\n",
    "    # Создание DataFrame\n",
    "    df_univer = pd.DataFrame(data)\n",
    "else:\n",
    "    print(f\"Ошибка при запросе API. Статус код: {api_response.status_code}\")"
   ]
  },
  {
   "cell_type": "code",
   "execution_count": 14,
   "id": "4809f839-b3c3-4edf-97f5-80e16d0d9ba9",
   "metadata": {},
   "outputs": [
    {
     "data": {
      "text/html": [
       "<div>\n",
       "<style scoped>\n",
       "    .dataframe tbody tr th:only-of-type {\n",
       "        vertical-align: middle;\n",
       "    }\n",
       "\n",
       "    .dataframe tbody tr th {\n",
       "        vertical-align: top;\n",
       "    }\n",
       "\n",
       "    .dataframe thead th {\n",
       "        text-align: right;\n",
       "    }\n",
       "</style>\n",
       "<table border=\"1\" class=\"dataframe\">\n",
       "  <thead>\n",
       "    <tr style=\"text-align: right;\">\n",
       "      <th></th>\n",
       "      <th>alpha_two_code</th>\n",
       "      <th>domains</th>\n",
       "      <th>web_pages</th>\n",
       "      <th>name</th>\n",
       "      <th>state-province</th>\n",
       "      <th>country</th>\n",
       "    </tr>\n",
       "  </thead>\n",
       "  <tbody>\n",
       "    <tr>\n",
       "      <th>0</th>\n",
       "      <td>UA</td>\n",
       "      <td>[student.karazin.ua, karazin.ua]</td>\n",
       "      <td>[https://karazin.ua]</td>\n",
       "      <td>Kharkiv National University</td>\n",
       "      <td>None</td>\n",
       "      <td>Ukraine</td>\n",
       "    </tr>\n",
       "    <tr>\n",
       "      <th>1</th>\n",
       "      <td>CL</td>\n",
       "      <td>[usm.cl]</td>\n",
       "      <td>[https://usm.cl]</td>\n",
       "      <td>Universidad Técnica Federico Santa María</td>\n",
       "      <td>None</td>\n",
       "      <td>Chile</td>\n",
       "    </tr>\n",
       "  </tbody>\n",
       "</table>\n",
       "</div>"
      ],
      "text/plain": [
       "  alpha_two_code                           domains             web_pages  \\\n",
       "0             UA  [student.karazin.ua, karazin.ua]  [https://karazin.ua]   \n",
       "1             CL                          [usm.cl]      [https://usm.cl]   \n",
       "\n",
       "                                       name state-province  country  \n",
       "0               Kharkiv National University           None  Ukraine  \n",
       "1  Universidad Técnica Federico Santa María           None    Chile  "
      ]
     },
     "execution_count": 14,
     "metadata": {},
     "output_type": "execute_result"
    }
   ],
   "source": [
    "df_univer.head(2)"
   ]
  },
  {
   "cell_type": "code",
   "execution_count": 15,
   "id": "36d5dc96-e54a-4ee0-a20b-c27e0f7154d8",
   "metadata": {},
   "outputs": [
    {
     "data": {
      "text/plain": [
       "(9947, 6)"
      ]
     },
     "execution_count": 15,
     "metadata": {},
     "output_type": "execute_result"
    }
   ],
   "source": [
    "df_univer.shape"
   ]
  },
  {
   "cell_type": "code",
   "execution_count": 16,
   "id": "79235fc4-7086-4b29-b54e-7760a0938f7a",
   "metadata": {
    "scrolled": true
   },
   "outputs": [
    {
     "data": {
      "text/html": [
       "<div>\n",
       "<style scoped>\n",
       "    .dataframe tbody tr th:only-of-type {\n",
       "        vertical-align: middle;\n",
       "    }\n",
       "\n",
       "    .dataframe tbody tr th {\n",
       "        vertical-align: top;\n",
       "    }\n",
       "\n",
       "    .dataframe thead th {\n",
       "        text-align: right;\n",
       "    }\n",
       "</style>\n",
       "<table border=\"1\" class=\"dataframe\">\n",
       "  <thead>\n",
       "    <tr style=\"text-align: right;\">\n",
       "      <th></th>\n",
       "      <th>alpha_two_code</th>\n",
       "      <th>domains</th>\n",
       "      <th>web_pages</th>\n",
       "      <th>name</th>\n",
       "      <th>state-province</th>\n",
       "      <th>country</th>\n",
       "    </tr>\n",
       "  </thead>\n",
       "  <tbody>\n",
       "    <tr>\n",
       "      <th>count</th>\n",
       "      <td>9947</td>\n",
       "      <td>9947</td>\n",
       "      <td>9947</td>\n",
       "      <td>9947</td>\n",
       "      <td>1127</td>\n",
       "      <td>9947</td>\n",
       "    </tr>\n",
       "    <tr>\n",
       "      <th>unique</th>\n",
       "      <td>202</td>\n",
       "      <td>9943</td>\n",
       "      <td>9942</td>\n",
       "      <td>9863</td>\n",
       "      <td>256</td>\n",
       "      <td>205</td>\n",
       "    </tr>\n",
       "    <tr>\n",
       "      <th>top</th>\n",
       "      <td>US</td>\n",
       "      <td>[howest.be]</td>\n",
       "      <td>[http://www.agu.edu.tr/]</td>\n",
       "      <td>Arab Open University</td>\n",
       "      <td>Tamil Nadu</td>\n",
       "      <td>United States</td>\n",
       "    </tr>\n",
       "    <tr>\n",
       "      <th>freq</th>\n",
       "      <td>2270</td>\n",
       "      <td>2</td>\n",
       "      <td>2</td>\n",
       "      <td>6</td>\n",
       "      <td>56</td>\n",
       "      <td>2269</td>\n",
       "    </tr>\n",
       "  </tbody>\n",
       "</table>\n",
       "</div>"
      ],
      "text/plain": [
       "       alpha_two_code      domains                 web_pages  \\\n",
       "count            9947         9947                      9947   \n",
       "unique            202         9943                      9942   \n",
       "top                US  [howest.be]  [http://www.agu.edu.tr/]   \n",
       "freq             2270            2                         2   \n",
       "\n",
       "                        name state-province        country  \n",
       "count                   9947           1127           9947  \n",
       "unique                  9863            256            205  \n",
       "top     Arab Open University     Tamil Nadu  United States  \n",
       "freq                       6             56           2269  "
      ]
     },
     "execution_count": 16,
     "metadata": {},
     "output_type": "execute_result"
    }
   ],
   "source": [
    "df_univer.describe()"
   ]
  },
  {
   "cell_type": "code",
   "execution_count": 17,
   "id": "1b906699-417f-4623-b02d-ee098e5c61a7",
   "metadata": {},
   "outputs": [
    {
     "data": {
      "text/plain": [
       "array(['UA', 'CL', 'FR', 'CN', 'GB', 'US', 'IN', 'CA', 'AF', 'AL', 'DZ',\n",
       "       'AD', 'AO', 'AG', 'AR', 'AM', 'AU', 'AT', 'AZ', 'BS', 'BH', 'BD',\n",
       "       'BB', 'BY', 'BE', 'BZ', 'BJ', 'BM', 'BT', 'BO', 'BA', 'BW', 'BR',\n",
       "       'BN', 'BG', 'BF', 'MM', 'BI', 'KH', 'CM', 'CV', 'KY', 'CF', 'TD',\n",
       "       'CO', 'CD', 'CG', 'CR', 'CI', 'IR', 'PL', 'HR', 'CU', 'CY', 'CZ',\n",
       "       'DK', 'DJ', 'DM', 'DO', 'EC', 'EG', 'SV', 'GQ', 'ER', 'EE', 'ET',\n",
       "       'FO', 'FJ', 'FI', 'GF', 'PF', 'GA', 'GM', 'GE', 'DE', 'GH', 'GR',\n",
       "       'GL', 'GD', 'GP', 'GU', 'GT', 'GN', 'GY', 'HT', 'VA', 'HN', 'HK',\n",
       "       'HU', 'IS', 'PK', 'ID', 'IQ', 'IE', 'IL', 'IT', 'JM', 'JP', 'JO',\n",
       "       'KZ', 'KE', 'KP', 'KR', 'XK', 'KW', 'KG', 'LA', 'LV', 'LB', 'LS',\n",
       "       'LR', 'LY', 'LI', 'LT', 'LU', 'MO', 'MK', 'MG', 'MW', 'MY', 'MV',\n",
       "       'ML', 'MT', 'MR', 'MU', 'MX', 'MD', 'MC', 'MN', 'ME', 'MS', 'MA',\n",
       "       'MZ', 'NA', 'NP', 'NL', 'NC', 'NZ', 'NI', 'NE', 'NG', 'NU', 'NO',\n",
       "       'OM', 'PS', 'PA', 'PG', 'PY', 'PE', 'PH', 'PT', 'PR', 'QA', 'RE',\n",
       "       'RO', 'RU', 'RW', 'KN', 'LC', 'VC', 'WS', 'SM', 'SA', 'SN', 'RS',\n",
       "       'SC', 'SL', 'SG', 'SK', 'SI', 'SO', 'ZA', 'SS', 'ES', 'LK', 'SD',\n",
       "       'SR', 'SZ', 'SE', 'CH', 'SY', 'TW', 'TJ', 'TZ', 'TH', 'TG', 'TT',\n",
       "       'TN', 'TR', 'TM', 'TC', 'UG', 'AE', 'UY', 'UZ', 'VE', 'VN', 'VG',\n",
       "       'YE', 'ZM', 'ZW', 'UK'], dtype=object)"
      ]
     },
     "execution_count": 17,
     "metadata": {},
     "output_type": "execute_result"
    }
   ],
   "source": [
    "df_univer['alpha_two_code'].unique()"
   ]
  },
  {
   "cell_type": "code",
   "execution_count": 18,
   "id": "2ec9afbd-7566-406e-9e06-e9d8ea0ac45b",
   "metadata": {},
   "outputs": [],
   "source": [
    "# Разделение доменов в столбце 'domains'\n",
    "df_univer = df_univer.explode('domains')"
   ]
  },
  {
   "cell_type": "code",
   "execution_count": 19,
   "id": "fbb89da4-edd2-4286-9684-ab66756545c3",
   "metadata": {
    "scrolled": true
   },
   "outputs": [
    {
     "data": {
      "text/html": [
       "<div>\n",
       "<style scoped>\n",
       "    .dataframe tbody tr th:only-of-type {\n",
       "        vertical-align: middle;\n",
       "    }\n",
       "\n",
       "    .dataframe tbody tr th {\n",
       "        vertical-align: top;\n",
       "    }\n",
       "\n",
       "    .dataframe thead th {\n",
       "        text-align: right;\n",
       "    }\n",
       "</style>\n",
       "<table border=\"1\" class=\"dataframe\">\n",
       "  <thead>\n",
       "    <tr style=\"text-align: right;\">\n",
       "      <th></th>\n",
       "      <th>alpha_two_code</th>\n",
       "      <th>domains</th>\n",
       "      <th>web_pages</th>\n",
       "      <th>name</th>\n",
       "      <th>state-province</th>\n",
       "      <th>country</th>\n",
       "    </tr>\n",
       "  </thead>\n",
       "  <tbody>\n",
       "    <tr>\n",
       "      <th>0</th>\n",
       "      <td>UA</td>\n",
       "      <td>student.karazin.ua</td>\n",
       "      <td>[https://karazin.ua]</td>\n",
       "      <td>Kharkiv National University</td>\n",
       "      <td>None</td>\n",
       "      <td>Ukraine</td>\n",
       "    </tr>\n",
       "    <tr>\n",
       "      <th>0</th>\n",
       "      <td>UA</td>\n",
       "      <td>karazin.ua</td>\n",
       "      <td>[https://karazin.ua]</td>\n",
       "      <td>Kharkiv National University</td>\n",
       "      <td>None</td>\n",
       "      <td>Ukraine</td>\n",
       "    </tr>\n",
       "  </tbody>\n",
       "</table>\n",
       "</div>"
      ],
      "text/plain": [
       "  alpha_two_code             domains             web_pages  \\\n",
       "0             UA  student.karazin.ua  [https://karazin.ua]   \n",
       "0             UA          karazin.ua  [https://karazin.ua]   \n",
       "\n",
       "                          name state-province  country  \n",
       "0  Kharkiv National University           None  Ukraine  \n",
       "0  Kharkiv National University           None  Ukraine  "
      ]
     },
     "execution_count": 19,
     "metadata": {},
     "output_type": "execute_result"
    }
   ],
   "source": [
    "df_univer.head(2)"
   ]
  },
  {
   "cell_type": "code",
   "execution_count": 20,
   "id": "c5a8dee7-a6fe-4a6f-a00f-cd0153949705",
   "metadata": {},
   "outputs": [
    {
     "data": {
      "text/plain": [
       "(10193, 6)"
      ]
     },
     "execution_count": 20,
     "metadata": {},
     "output_type": "execute_result"
    }
   ],
   "source": [
    "df_univer.shape"
   ]
  },
  {
   "cell_type": "code",
   "execution_count": 21,
   "id": "e6a29882-3c18-4762-b05a-9e27e19c0334",
   "metadata": {},
   "outputs": [
    {
     "data": {
      "text/html": [
       "<div>\n",
       "<style scoped>\n",
       "    .dataframe tbody tr th:only-of-type {\n",
       "        vertical-align: middle;\n",
       "    }\n",
       "\n",
       "    .dataframe tbody tr th {\n",
       "        vertical-align: top;\n",
       "    }\n",
       "\n",
       "    .dataframe thead th {\n",
       "        text-align: right;\n",
       "    }\n",
       "</style>\n",
       "<table border=\"1\" class=\"dataframe\">\n",
       "  <thead>\n",
       "    <tr style=\"text-align: right;\">\n",
       "      <th></th>\n",
       "      <th>alpha_two_code</th>\n",
       "      <th>domains</th>\n",
       "      <th>web_pages</th>\n",
       "      <th>name</th>\n",
       "      <th>state-province</th>\n",
       "      <th>country</th>\n",
       "    </tr>\n",
       "  </thead>\n",
       "  <tbody>\n",
       "    <tr>\n",
       "      <th>0</th>\n",
       "      <td>UA</td>\n",
       "      <td>student.karazin.ua</td>\n",
       "      <td>[https://karazin.ua]</td>\n",
       "      <td>Kharkiv National University</td>\n",
       "      <td>None</td>\n",
       "      <td>Ukraine</td>\n",
       "    </tr>\n",
       "    <tr>\n",
       "      <th>3</th>\n",
       "      <td>CN</td>\n",
       "      <td>mail2.sysu.edu.cn</td>\n",
       "      <td>[https://sysu.edu.cn]</td>\n",
       "      <td>Sun Yat-Sen University</td>\n",
       "      <td>None</td>\n",
       "      <td>China</td>\n",
       "    </tr>\n",
       "    <tr>\n",
       "      <th>3</th>\n",
       "      <td>CN</td>\n",
       "      <td>mail.sysu.edu.cn</td>\n",
       "      <td>[https://sysu.edu.cn]</td>\n",
       "      <td>Sun Yat-Sen University</td>\n",
       "      <td>None</td>\n",
       "      <td>China</td>\n",
       "    </tr>\n",
       "    <tr>\n",
       "      <th>4</th>\n",
       "      <td>GB</td>\n",
       "      <td>rhul.ac.uk</td>\n",
       "      <td>[https://rhul.ac.uk]</td>\n",
       "      <td>Royal Holloway University of London</td>\n",
       "      <td>None</td>\n",
       "      <td>United Kingdom</td>\n",
       "    </tr>\n",
       "    <tr>\n",
       "      <th>5</th>\n",
       "      <td>CN</td>\n",
       "      <td>hnu.edu.cn</td>\n",
       "      <td>[https://www.hnu.edu.cn, http://www-en.hnu.edu...</td>\n",
       "      <td>Hunan University</td>\n",
       "      <td>None</td>\n",
       "      <td>China</td>\n",
       "    </tr>\n",
       "    <tr>\n",
       "      <th>...</th>\n",
       "      <td>...</td>\n",
       "      <td>...</td>\n",
       "      <td>...</td>\n",
       "      <td>...</td>\n",
       "      <td>...</td>\n",
       "      <td>...</td>\n",
       "    </tr>\n",
       "    <tr>\n",
       "      <th>9937</th>\n",
       "      <td>PT</td>\n",
       "      <td>www.esmad.ipp.pt</td>\n",
       "      <td>[https://www.esmad.ipp.pt/]</td>\n",
       "      <td>Escola Superior de Media Artes e Design</td>\n",
       "      <td>None</td>\n",
       "      <td>Portugal</td>\n",
       "    </tr>\n",
       "    <tr>\n",
       "      <th>9941</th>\n",
       "      <td>TR</td>\n",
       "      <td>thk.edu.tr</td>\n",
       "      <td>[https://thk.edu.tr/]</td>\n",
       "      <td>Türk Hava Kurumu Üniversitesi</td>\n",
       "      <td>None</td>\n",
       "      <td>Turkey</td>\n",
       "    </tr>\n",
       "    <tr>\n",
       "      <th>9942</th>\n",
       "      <td>PL</td>\n",
       "      <td>if-pan.krakow.pl</td>\n",
       "      <td>[https://if-pan.krakow.pl/]</td>\n",
       "      <td>Maj Institute of Pharmacology Polish Academy o...</td>\n",
       "      <td>None</td>\n",
       "      <td>Poland</td>\n",
       "    </tr>\n",
       "    <tr>\n",
       "      <th>9943</th>\n",
       "      <td>MX</td>\n",
       "      <td>lamar.org.mx</td>\n",
       "      <td>[https://lamar.mx/]</td>\n",
       "      <td>Universidad Guadalajara Lamar</td>\n",
       "      <td>None</td>\n",
       "      <td>Mexico</td>\n",
       "    </tr>\n",
       "    <tr>\n",
       "      <th>9944</th>\n",
       "      <td>MA</td>\n",
       "      <td>ehtp.ac.ma</td>\n",
       "      <td>[http://www.ehtp.ac.ma/]</td>\n",
       "      <td>Ecole Hassania des Travaux Publics</td>\n",
       "      <td>None</td>\n",
       "      <td>Morocco</td>\n",
       "    </tr>\n",
       "  </tbody>\n",
       "</table>\n",
       "<p>5230 rows × 6 columns</p>\n",
       "</div>"
      ],
      "text/plain": [
       "     alpha_two_code             domains  \\\n",
       "0                UA  student.karazin.ua   \n",
       "3                CN   mail2.sysu.edu.cn   \n",
       "3                CN    mail.sysu.edu.cn   \n",
       "4                GB          rhul.ac.uk   \n",
       "5                CN          hnu.edu.cn   \n",
       "...             ...                 ...   \n",
       "9937             PT    www.esmad.ipp.pt   \n",
       "9941             TR          thk.edu.tr   \n",
       "9942             PL    if-pan.krakow.pl   \n",
       "9943             MX        lamar.org.mx   \n",
       "9944             MA          ehtp.ac.ma   \n",
       "\n",
       "                                              web_pages  \\\n",
       "0                                  [https://karazin.ua]   \n",
       "3                                 [https://sysu.edu.cn]   \n",
       "3                                 [https://sysu.edu.cn]   \n",
       "4                                  [https://rhul.ac.uk]   \n",
       "5     [https://www.hnu.edu.cn, http://www-en.hnu.edu...   \n",
       "...                                                 ...   \n",
       "9937                        [https://www.esmad.ipp.pt/]   \n",
       "9941                              [https://thk.edu.tr/]   \n",
       "9942                        [https://if-pan.krakow.pl/]   \n",
       "9943                                [https://lamar.mx/]   \n",
       "9944                           [http://www.ehtp.ac.ma/]   \n",
       "\n",
       "                                                   name state-province  \\\n",
       "0                           Kharkiv National University           None   \n",
       "3                                Sun Yat-Sen University           None   \n",
       "3                                Sun Yat-Sen University           None   \n",
       "4                   Royal Holloway University of London           None   \n",
       "5                                      Hunan University           None   \n",
       "...                                                 ...            ...   \n",
       "9937            Escola Superior de Media Artes e Design           None   \n",
       "9941                      Türk Hava Kurumu Üniversitesi           None   \n",
       "9942  Maj Institute of Pharmacology Polish Academy o...           None   \n",
       "9943                      Universidad Guadalajara Lamar           None   \n",
       "9944                 Ecole Hassania des Travaux Publics           None   \n",
       "\n",
       "             country  \n",
       "0            Ukraine  \n",
       "3              China  \n",
       "3              China  \n",
       "4     United Kingdom  \n",
       "5              China  \n",
       "...              ...  \n",
       "9937        Portugal  \n",
       "9941          Turkey  \n",
       "9942          Poland  \n",
       "9943          Mexico  \n",
       "9944         Morocco  \n",
       "\n",
       "[5230 rows x 6 columns]"
      ]
     },
     "execution_count": 21,
     "metadata": {},
     "output_type": "execute_result"
    }
   ],
   "source": [
    "df_univer[df_univer['domains'].str.count('\\.') >= 2]"
   ]
  },
  {
   "cell_type": "code",
   "execution_count": 22,
   "id": "5b1e1f77-7a93-41a2-864d-f1601b5c09e5",
   "metadata": {
    "scrolled": true
   },
   "outputs": [],
   "source": [
    "df_univer['top_level_domain'] = df_univer['domains'].apply(lambda x: x.split('.')[-1])"
   ]
  },
  {
   "cell_type": "code",
   "execution_count": 23,
   "id": "40f2a1f2-ec26-4021-95d8-b81b1286bee7",
   "metadata": {},
   "outputs": [
    {
     "data": {
      "text/html": [
       "<div>\n",
       "<style scoped>\n",
       "    .dataframe tbody tr th:only-of-type {\n",
       "        vertical-align: middle;\n",
       "    }\n",
       "\n",
       "    .dataframe tbody tr th {\n",
       "        vertical-align: top;\n",
       "    }\n",
       "\n",
       "    .dataframe thead th {\n",
       "        text-align: right;\n",
       "    }\n",
       "</style>\n",
       "<table border=\"1\" class=\"dataframe\">\n",
       "  <thead>\n",
       "    <tr style=\"text-align: right;\">\n",
       "      <th></th>\n",
       "      <th>alpha_two_code</th>\n",
       "      <th>domains</th>\n",
       "      <th>web_pages</th>\n",
       "      <th>name</th>\n",
       "      <th>state-province</th>\n",
       "      <th>country</th>\n",
       "      <th>top_level_domain</th>\n",
       "    </tr>\n",
       "  </thead>\n",
       "  <tbody>\n",
       "    <tr>\n",
       "      <th>count</th>\n",
       "      <td>10193</td>\n",
       "      <td>10193</td>\n",
       "      <td>10193</td>\n",
       "      <td>10193</td>\n",
       "      <td>1176</td>\n",
       "      <td>10193</td>\n",
       "      <td>10193</td>\n",
       "    </tr>\n",
       "    <tr>\n",
       "      <th>unique</th>\n",
       "      <td>202</td>\n",
       "      <td>10187</td>\n",
       "      <td>9942</td>\n",
       "      <td>9863</td>\n",
       "      <td>256</td>\n",
       "      <td>205</td>\n",
       "      <td>194</td>\n",
       "    </tr>\n",
       "    <tr>\n",
       "      <th>top</th>\n",
       "      <td>US</td>\n",
       "      <td>student.sdccd.edu</td>\n",
       "      <td>[https://sciences.sorbonne-universite.fr/]</td>\n",
       "      <td>Arab Open University</td>\n",
       "      <td>Tamil Nadu</td>\n",
       "      <td>United States</td>\n",
       "      <td>edu</td>\n",
       "    </tr>\n",
       "    <tr>\n",
       "      <th>freq</th>\n",
       "      <td>2308</td>\n",
       "      <td>3</td>\n",
       "      <td>5</td>\n",
       "      <td>6</td>\n",
       "      <td>58</td>\n",
       "      <td>2307</td>\n",
       "      <td>2520</td>\n",
       "    </tr>\n",
       "  </tbody>\n",
       "</table>\n",
       "</div>"
      ],
      "text/plain": [
       "       alpha_two_code            domains  \\\n",
       "count           10193              10193   \n",
       "unique            202              10187   \n",
       "top                US  student.sdccd.edu   \n",
       "freq             2308                  3   \n",
       "\n",
       "                                         web_pages                  name  \\\n",
       "count                                        10193                 10193   \n",
       "unique                                        9942                  9863   \n",
       "top     [https://sciences.sorbonne-universite.fr/]  Arab Open University   \n",
       "freq                                             5                     6   \n",
       "\n",
       "       state-province        country top_level_domain  \n",
       "count            1176          10193            10193  \n",
       "unique            256            205              194  \n",
       "top        Tamil Nadu  United States              edu  \n",
       "freq               58           2307             2520  "
      ]
     },
     "execution_count": 23,
     "metadata": {},
     "output_type": "execute_result"
    }
   ],
   "source": [
    "df_univer.describe()"
   ]
  },
  {
   "cell_type": "markdown",
   "id": "3f6e5f25-80ca-4c6d-abb5-a5cd95a8305a",
   "metadata": {},
   "source": [
    "9947 университета в списке http://universities.hipolabs.com, 25% в домене `.edu`"
   ]
  },
  {
   "cell_type": "markdown",
   "id": "992f8077-0088-4018-9cd1-c55b987e7b85",
   "metadata": {},
   "source": [
    "## Отбор строк с доменами академий"
   ]
  },
  {
   "cell_type": "markdown",
   "id": "ec837096-9ee0-475f-86e8-c033fe2b6d8d",
   "metadata": {},
   "source": [
    "посмотрим на кол-во строк при полном совпадении доменов"
   ]
  },
  {
   "cell_type": "code",
   "execution_count": 24,
   "id": "f2c03158-d40b-48fe-a670-3d64aeda1b5b",
   "metadata": {},
   "outputs": [],
   "source": [
    "# Объединение таблиц по условию вхождения доменной части\n",
    "result_df = pd.merge(df, df_univer, left_on='email_domain', right_on='domains', how='inner')"
   ]
  },
  {
   "cell_type": "code",
   "execution_count": 25,
   "id": "0d4f53db-32da-4687-90f1-7e32b6a2bbb3",
   "metadata": {},
   "outputs": [
    {
     "data": {
      "text/plain": [
       "(1437, 27)"
      ]
     },
     "execution_count": 25,
     "metadata": {},
     "output_type": "execute_result"
    }
   ],
   "source": [
    "result_df.shape"
   ]
  },
  {
   "cell_type": "markdown",
   "id": "97569365-43bf-459b-81ef-c2fef2c4cc90",
   "metadata": {},
   "source": [
    "частичное совпадение"
   ]
  },
  {
   "cell_type": "markdown",
   "id": "5a4ec165-cf03-4030-82c7-de8d87c14ae1",
   "metadata": {},
   "source": [
    "NOTE: Some universities use a format like [user]@[department].[domain], but this list only contains the [domain] portion. For example, an email address might be [student]@cs.usc.edu, and this list will contain 'usc.edu', the domain for the University of Southern California. Take this into consideration if using this list for email address validation."
   ]
  },
  {
   "cell_type": "code",
   "execution_count": 26,
   "id": "2c053f98-f5a6-4a79-bade-85b550c93324",
   "metadata": {},
   "outputs": [],
   "source": [
    "def first_match(series, email):\n",
    "    for value in series:\n",
    "        if value in email:\n",
    "            return value\n",
    "    return None "
   ]
  },
  {
   "cell_type": "code",
   "execution_count": 27,
   "id": "28b25f6e-ee0a-4c61-a927-504344e69df4",
   "metadata": {},
   "outputs": [
    {
     "name": "stdout",
     "output_type": "stream",
     "text": [
      "CPU times: user 18.2 s, sys: 6.73 ms, total: 18.2 s\n",
      "Wall time: 18.2 s\n"
     ]
    }
   ],
   "source": [
    "%%time\n",
    "df['temp_join_column'] = df['email_domain'].apply(lambda x: first_match(df_univer['domains'], x))"
   ]
  },
  {
   "cell_type": "code",
   "execution_count": 28,
   "id": "e478f817-07da-4f92-bb77-9074f0416525",
   "metadata": {},
   "outputs": [
    {
     "data": {
      "text/plain": [
       "2035"
      ]
     },
     "execution_count": 28,
     "metadata": {},
     "output_type": "execute_result"
    }
   ],
   "source": [
    "df['temp_join_column'].count()"
   ]
  },
  {
   "cell_type": "code",
   "execution_count": 29,
   "id": "19bab38f-da4f-4b06-94cb-ffae800d0039",
   "metadata": {},
   "outputs": [],
   "source": [
    "merged_df = pd.merge(df, df_univer, left_on='temp_join_column', right_on='domains', how='left')"
   ]
  },
  {
   "cell_type": "markdown",
   "id": "6cf9ff0b-baf7-4768-af84-bd4d598d4f32",
   "metadata": {},
   "source": [
    "посмотрим на кол-во присоединенных строк"
   ]
  },
  {
   "cell_type": "code",
   "execution_count": 30,
   "id": "bf5ad779-8f24-4cc9-9d69-93b852207dc2",
   "metadata": {},
   "outputs": [
    {
     "data": {
      "text/plain": [
       "2035"
      ]
     },
     "execution_count": 30,
     "metadata": {},
     "output_type": "execute_result"
    }
   ],
   "source": [
    "participants_univer_short = merged_df[(merged_df['name'].notna())]\n",
    "participants_univer_short.shape[0]"
   ]
  },
  {
   "cell_type": "markdown",
   "id": "a73fb033-63bc-4676-8918-20173e24fdfd",
   "metadata": {},
   "source": [
    "часть универов утеряна\n",
    "\n",
    "кол-во строк с доменом `.edu` найденных в списке `university-domains-list`:"
   ]
  },
  {
   "cell_type": "code",
   "execution_count": 31,
   "id": "ecc4fe77-5850-493c-91a3-d2f11b376eb3",
   "metadata": {},
   "outputs": [
    {
     "data": {
      "text/plain": [
       "1890"
      ]
     },
     "execution_count": 31,
     "metadata": {},
     "output_type": "execute_result"
    }
   ],
   "source": [
    "merged_df[(merged_df['top_level_domain_x'] == 'edu') & (merged_df['name'].notna())].shape[0]"
   ]
  },
  {
   "cell_type": "code",
   "execution_count": 32,
   "id": "b77b061e-1838-44ef-981b-bf6100ddccc1",
   "metadata": {},
   "outputs": [
    {
     "data": {
      "text/plain": [
       "2291"
      ]
     },
     "execution_count": 32,
     "metadata": {},
     "output_type": "execute_result"
    }
   ],
   "source": [
    "merged_df[(merged_df['top_level_domain_x'] == 'edu')].shape[0]"
   ]
  },
  {
   "cell_type": "markdown",
   "id": "69fcee57-f682-4142-ac74-24291eb5f7da",
   "metadata": {},
   "source": [
    "Всего строк с доменом .edu 2291, то есть не нашлось в списке university-domains-list 401 строка (17%)"
   ]
  },
  {
   "cell_type": "markdown",
   "id": "0a0f90f2-acc7-4358-a2b4-34345ac835ab",
   "metadata": {},
   "source": [
    "отберем строки с универами с условием попадания или по `.edu` или по списку:"
   ]
  },
  {
   "cell_type": "code",
   "execution_count": 33,
   "id": "931e93e7-3fbc-4bcc-ab80-f553b9dded88",
   "metadata": {},
   "outputs": [],
   "source": [
    "participants_univer = merged_df[(merged_df['top_level_domain_x'] == 'edu') | (merged_df['name'].notna())]"
   ]
  },
  {
   "cell_type": "code",
   "execution_count": 34,
   "id": "1fec23c1-e36d-435a-9732-bc9bff926dcd",
   "metadata": {},
   "outputs": [
    {
     "data": {
      "text/plain": [
       "2436"
      ]
     },
     "execution_count": 34,
     "metadata": {},
     "output_type": "execute_result"
    }
   ],
   "source": [
    "participants_univer.shape[0]"
   ]
  },
  {
   "cell_type": "markdown",
   "id": "9d63eea8-b5d8-43a1-a197-ab60064e13b8",
   "metadata": {},
   "source": [
    "мы можем дополнительно изучить сайты строк не попавших в список university-domains-list, чтобы определиться с выборкой. Остановимся на 2436 строках."
   ]
  },
  {
   "cell_type": "code",
   "execution_count": 35,
   "id": "e7f96eaf-6172-4f63-82dd-c996c9eb0312",
   "metadata": {},
   "outputs": [
    {
     "data": {
      "text/html": [
       "<div>\n",
       "<style scoped>\n",
       "    .dataframe tbody tr th:only-of-type {\n",
       "        vertical-align: middle;\n",
       "    }\n",
       "\n",
       "    .dataframe tbody tr th {\n",
       "        vertical-align: top;\n",
       "    }\n",
       "\n",
       "    .dataframe thead th {\n",
       "        text-align: right;\n",
       "    }\n",
       "</style>\n",
       "<table border=\"1\" class=\"dataframe\">\n",
       "  <thead>\n",
       "    <tr style=\"text-align: right;\">\n",
       "      <th></th>\n",
       "      <th>free_description_company</th>\n",
       "      <th>Web address</th>\n",
       "      <th>Contact Name</th>\n",
       "      <th>First Name</th>\n",
       "      <th>Middle Name</th>\n",
       "      <th>Last Name</th>\n",
       "      <th>Title</th>\n",
       "      <th>Address</th>\n",
       "      <th>Address1</th>\n",
       "      <th>City</th>\n",
       "      <th>...</th>\n",
       "      <th>email_domain</th>\n",
       "      <th>top_level_domain_x</th>\n",
       "      <th>temp_join_column</th>\n",
       "      <th>alpha_two_code</th>\n",
       "      <th>domains</th>\n",
       "      <th>web_pages</th>\n",
       "      <th>name</th>\n",
       "      <th>state-province</th>\n",
       "      <th>country</th>\n",
       "      <th>top_level_domain_y</th>\n",
       "    </tr>\n",
       "  </thead>\n",
       "  <tbody>\n",
       "    <tr>\n",
       "      <th>3770</th>\n",
       "      <td>CANCER CARE CENTERS OF SOUTHWEST TEXAS</td>\n",
       "      <td>http://www.cancercaresouthtexas.com</td>\n",
       "      <td>Dina Chavira</td>\n",
       "      <td>Dina</td>\n",
       "      <td>--</td>\n",
       "      <td>Chavira</td>\n",
       "      <td>Psychologist</td>\n",
       "      <td>40 Ne Loop 410 Ste 500</td>\n",
       "      <td>--</td>\n",
       "      <td>San Antonio</td>\n",
       "      <td>...</td>\n",
       "      <td>uthscsa.edu</td>\n",
       "      <td>edu</td>\n",
       "      <td>None</td>\n",
       "      <td>NaN</td>\n",
       "      <td>NaN</td>\n",
       "      <td>NaN</td>\n",
       "      <td>NaN</td>\n",
       "      <td>NaN</td>\n",
       "      <td>NaN</td>\n",
       "      <td>NaN</td>\n",
       "    </tr>\n",
       "    <tr>\n",
       "      <th>6926</th>\n",
       "      <td>JEFFERSON</td>\n",
       "      <td>http://www.wearejefferson.com</td>\n",
       "      <td>Jingduan Yang</td>\n",
       "      <td>Jingduan</td>\n",
       "      <td>--</td>\n",
       "      <td>Yang</td>\n",
       "      <td>Psychologist</td>\n",
       "      <td>111 Sourh 11th Street</td>\n",
       "      <td>Suite 4260</td>\n",
       "      <td>Philadelphia</td>\n",
       "      <td>...</td>\n",
       "      <td>jefferson.edu</td>\n",
       "      <td>edu</td>\n",
       "      <td>None</td>\n",
       "      <td>NaN</td>\n",
       "      <td>NaN</td>\n",
       "      <td>NaN</td>\n",
       "      <td>NaN</td>\n",
       "      <td>NaN</td>\n",
       "      <td>NaN</td>\n",
       "      <td>NaN</td>\n",
       "    </tr>\n",
       "    <tr>\n",
       "      <th>947</th>\n",
       "      <td>GEISINGER WYOMING VALLEY MEDICAL CENTER</td>\n",
       "      <td>http://www.geisinger.org</td>\n",
       "      <td>April Rine</td>\n",
       "      <td>April</td>\n",
       "      <td>--</td>\n",
       "      <td>Rine</td>\n",
       "      <td>Psychologist</td>\n",
       "      <td>100 N Academy Avenue</td>\n",
       "      <td>--</td>\n",
       "      <td>Danville</td>\n",
       "      <td>...</td>\n",
       "      <td>geisinger.edu</td>\n",
       "      <td>edu</td>\n",
       "      <td>None</td>\n",
       "      <td>NaN</td>\n",
       "      <td>NaN</td>\n",
       "      <td>NaN</td>\n",
       "      <td>NaN</td>\n",
       "      <td>NaN</td>\n",
       "      <td>NaN</td>\n",
       "      <td>NaN</td>\n",
       "    </tr>\n",
       "    <tr>\n",
       "      <th>9531</th>\n",
       "      <td>JEFFERSON</td>\n",
       "      <td>http://www.wearejefferson.com</td>\n",
       "      <td>Margaret Fuhs</td>\n",
       "      <td>Margaret</td>\n",
       "      <td>--</td>\n",
       "      <td>Fuhs</td>\n",
       "      <td>Psychologist</td>\n",
       "      <td>5060 State Rd</td>\n",
       "      <td>Second Floor</td>\n",
       "      <td>Drexel Hill</td>\n",
       "      <td>...</td>\n",
       "      <td>jefferson.edu</td>\n",
       "      <td>edu</td>\n",
       "      <td>None</td>\n",
       "      <td>NaN</td>\n",
       "      <td>NaN</td>\n",
       "      <td>NaN</td>\n",
       "      <td>NaN</td>\n",
       "      <td>NaN</td>\n",
       "      <td>NaN</td>\n",
       "      <td>NaN</td>\n",
       "    </tr>\n",
       "    <tr>\n",
       "      <th>5843</th>\n",
       "      <td>PACKER IRA K</td>\n",
       "      <td>http://www.umassmed.edu</td>\n",
       "      <td>Ira K Packer</td>\n",
       "      <td>Ira</td>\n",
       "      <td>K</td>\n",
       "      <td>Packer</td>\n",
       "      <td>Psychologist</td>\n",
       "      <td>University Of Massachusetts Medical School</td>\n",
       "      <td>--</td>\n",
       "      <td>Worcester</td>\n",
       "      <td>...</td>\n",
       "      <td>umassmed.edu</td>\n",
       "      <td>edu</td>\n",
       "      <td>None</td>\n",
       "      <td>NaN</td>\n",
       "      <td>NaN</td>\n",
       "      <td>NaN</td>\n",
       "      <td>NaN</td>\n",
       "      <td>NaN</td>\n",
       "      <td>NaN</td>\n",
       "      <td>NaN</td>\n",
       "    </tr>\n",
       "  </tbody>\n",
       "</table>\n",
       "<p>5 rows × 28 columns</p>\n",
       "</div>"
      ],
      "text/plain": [
       "                     free_description_company  \\\n",
       "3770   CANCER CARE CENTERS OF SOUTHWEST TEXAS   \n",
       "6926                                JEFFERSON   \n",
       "947   GEISINGER WYOMING VALLEY MEDICAL CENTER   \n",
       "9531                                JEFFERSON   \n",
       "5843                             PACKER IRA K   \n",
       "\n",
       "                              Web address   Contact Name First Name  \\\n",
       "3770  http://www.cancercaresouthtexas.com   Dina Chavira       Dina   \n",
       "6926        http://www.wearejefferson.com  Jingduan Yang   Jingduan   \n",
       "947              http://www.geisinger.org     April Rine      April   \n",
       "9531        http://www.wearejefferson.com  Margaret Fuhs   Margaret   \n",
       "5843              http://www.umassmed.edu   Ira K Packer        Ira   \n",
       "\n",
       "     Middle Name Last Name         Title  \\\n",
       "3770          --   Chavira  Psychologist   \n",
       "6926          --      Yang  Psychologist   \n",
       "947           --      Rine  Psychologist   \n",
       "9531          --      Fuhs  Psychologist   \n",
       "5843           K    Packer  Psychologist   \n",
       "\n",
       "                                         Address      Address1          City  \\\n",
       "3770                      40 Ne Loop 410 Ste 500            --   San Antonio   \n",
       "6926                       111 Sourh 11th Street    Suite 4260  Philadelphia   \n",
       "947                         100 N Academy Avenue            --      Danville   \n",
       "9531                               5060 State Rd  Second Floor   Drexel Hill   \n",
       "5843  University Of Massachusetts Medical School            --     Worcester   \n",
       "\n",
       "      ...   email_domain top_level_domain_x temp_join_column alpha_two_code  \\\n",
       "3770  ...    uthscsa.edu                edu             None            NaN   \n",
       "6926  ...  jefferson.edu                edu             None            NaN   \n",
       "947   ...  geisinger.edu                edu             None            NaN   \n",
       "9531  ...  jefferson.edu                edu             None            NaN   \n",
       "5843  ...   umassmed.edu                edu             None            NaN   \n",
       "\n",
       "     domains web_pages name state-province country top_level_domain_y  \n",
       "3770     NaN       NaN  NaN            NaN     NaN                NaN  \n",
       "6926     NaN       NaN  NaN            NaN     NaN                NaN  \n",
       "947      NaN       NaN  NaN            NaN     NaN                NaN  \n",
       "9531     NaN       NaN  NaN            NaN     NaN                NaN  \n",
       "5843     NaN       NaN  NaN            NaN     NaN                NaN  \n",
       "\n",
       "[5 rows x 28 columns]"
      ]
     },
     "execution_count": 35,
     "metadata": {},
     "output_type": "execute_result"
    }
   ],
   "source": [
    "participants_univer[(participants_univer['top_level_domain_x'] == 'edu') & (participants_univer['name'].isna())].sample(5)"
   ]
  },
  {
   "cell_type": "code",
   "execution_count": 36,
   "id": "8417bded-2658-4b56-a390-536d6cddabab",
   "metadata": {},
   "outputs": [
    {
     "data": {
      "text/plain": [
       "Index(['free_description_company', 'Web address', 'Contact Name', 'First Name',\n",
       "       'Middle Name', 'Last Name', 'Title', 'Address', 'Address1', 'City',\n",
       "       'State', 'ZIP Code', 'Country', 'Phone Number', 'Employees', 'Revenue',\n",
       "       'Industry', 'Email', 'email_domain', 'top_level_domain_x',\n",
       "       'temp_join_column', 'alpha_two_code', 'domains', 'web_pages', 'name',\n",
       "       'state-province', 'country', 'top_level_domain_y'],\n",
       "      dtype='object')"
      ]
     },
     "execution_count": 36,
     "metadata": {},
     "output_type": "execute_result"
    }
   ],
   "source": [
    "participants_univer.columns"
   ]
  },
  {
   "cell_type": "code",
   "execution_count": 37,
   "id": "d5837c9a-85fe-4002-9e60-49a5cc29c2ed",
   "metadata": {},
   "outputs": [
    {
     "data": {
      "text/plain": [
       "371"
      ]
     },
     "execution_count": 37,
     "metadata": {},
     "output_type": "execute_result"
    }
   ],
   "source": [
    "participants_univer_short.email_domain.nunique()"
   ]
  },
  {
   "cell_type": "code",
   "execution_count": 38,
   "id": "5cd9565d-f6a2-4b55-9efd-069b90270b6b",
   "metadata": {},
   "outputs": [
    {
     "data": {
      "text/plain": [
       "272"
      ]
     },
     "execution_count": 38,
     "metadata": {},
     "output_type": "execute_result"
    }
   ],
   "source": [
    "participants_univer_short.name.nunique()"
   ]
  },
  {
   "cell_type": "code",
   "execution_count": 39,
   "id": "90bebc69-9a43-4d90-bc9b-39a7f60d5fd4",
   "metadata": {},
   "outputs": [
    {
     "data": {
      "text/plain": [
       "274"
      ]
     },
     "execution_count": 39,
     "metadata": {},
     "output_type": "execute_result"
    }
   ],
   "source": [
    "participants_univer_short.domains.nunique()"
   ]
  },
  {
   "cell_type": "markdown",
   "id": "94cf3851-ae57-41b0-b0d8-731bdf00efce",
   "metadata": {},
   "source": [
    "Некоторым университетам принадлежит несколько доменных имен"
   ]
  },
  {
   "cell_type": "code",
   "execution_count": 40,
   "id": "8ffc97c1-d9a6-43f2-a76f-4caa5566a32d",
   "metadata": {},
   "outputs": [
    {
     "data": {
      "text/plain": [
       "440"
      ]
     },
     "execution_count": 40,
     "metadata": {},
     "output_type": "execute_result"
    }
   ],
   "source": [
    "participants_univer.email_domain.nunique()"
   ]
  },
  {
   "cell_type": "markdown",
   "id": "14c20eea-e31c-4bcf-bfe0-d60c9410ab79",
   "metadata": {},
   "source": [
    "После добавления фильтра по университетам, кол-во строк уменьшилось с 15409 до 2436, доменных имен с 3560 до 440."
   ]
  },
  {
   "cell_type": "markdown",
   "id": "258c9e84-c597-47f6-91eb-bc147ec38dee",
   "metadata": {},
   "source": [
    "## Добавление информации по рангам"
   ]
  },
  {
   "cell_type": "markdown",
   "id": "f98e561b-6b50-4ae1-9555-ed1c79208c00",
   "metadata": {},
   "source": [
    "### Изучим таблицу `World University Rankings`"
   ]
  },
  {
   "cell_type": "code",
   "execution_count": 41,
   "id": "22bc3e74-8a4d-4680-8d45-7745b932228b",
   "metadata": {},
   "outputs": [],
   "source": [
    "df_rank = pd.read_csv('/home/asketon/Documents/Besample/2024 QS World University Rankings 1.2.csv', skiprows=1)"
   ]
  },
  {
   "cell_type": "code",
   "execution_count": 42,
   "id": "ff1b54aa-802a-43a7-8436-6b669694f0d2",
   "metadata": {},
   "outputs": [],
   "source": [
    "df_rank = df_rank.drop([0, 1])"
   ]
  },
  {
   "cell_type": "code",
   "execution_count": 43,
   "id": "9f2e3a4b-8020-46e0-bb13-4a743c91e728",
   "metadata": {
    "scrolled": true
   },
   "outputs": [
    {
     "data": {
      "text/html": [
       "<div>\n",
       "<style scoped>\n",
       "    .dataframe tbody tr th:only-of-type {\n",
       "        vertical-align: middle;\n",
       "    }\n",
       "\n",
       "    .dataframe tbody tr th {\n",
       "        vertical-align: top;\n",
       "    }\n",
       "\n",
       "    .dataframe thead th {\n",
       "        text-align: right;\n",
       "    }\n",
       "</style>\n",
       "<table border=\"1\" class=\"dataframe\">\n",
       "  <thead>\n",
       "    <tr style=\"text-align: right;\">\n",
       "      <th></th>\n",
       "      <th>2024</th>\n",
       "      <th>2023</th>\n",
       "      <th>Institution Name</th>\n",
       "      <th>Location</th>\n",
       "      <th>Unnamed: 4</th>\n",
       "      <th>Classification</th>\n",
       "      <th>Unnamed: 6</th>\n",
       "      <th>Unnamed: 7</th>\n",
       "      <th>Unnamed: 8</th>\n",
       "      <th>Academic Reputation</th>\n",
       "      <th>...</th>\n",
       "      <th>Unnamed: 18</th>\n",
       "      <th>International Students</th>\n",
       "      <th>Unnamed: 20</th>\n",
       "      <th>International Research Network</th>\n",
       "      <th>Unnamed: 22</th>\n",
       "      <th>Employment Outcomes</th>\n",
       "      <th>Unnamed: 24</th>\n",
       "      <th>Sustainability</th>\n",
       "      <th>Unnamed: 26</th>\n",
       "      <th>Overall</th>\n",
       "    </tr>\n",
       "  </thead>\n",
       "  <tbody>\n",
       "    <tr>\n",
       "      <th>2</th>\n",
       "      <td>1</td>\n",
       "      <td>1</td>\n",
       "      <td>Massachusetts Institute of Technology (MIT)</td>\n",
       "      <td>US</td>\n",
       "      <td>United States</td>\n",
       "      <td>M</td>\n",
       "      <td>CO</td>\n",
       "      <td>VH</td>\n",
       "      <td>B</td>\n",
       "      <td>100.0</td>\n",
       "      <td>...</td>\n",
       "      <td>56</td>\n",
       "      <td>88.2</td>\n",
       "      <td>128</td>\n",
       "      <td>94.3</td>\n",
       "      <td>58</td>\n",
       "      <td>100</td>\n",
       "      <td>4</td>\n",
       "      <td>95.2</td>\n",
       "      <td>51</td>\n",
       "      <td>100.0</td>\n",
       "    </tr>\n",
       "    <tr>\n",
       "      <th>3</th>\n",
       "      <td>2</td>\n",
       "      <td>2</td>\n",
       "      <td>University of Cambridge</td>\n",
       "      <td>UK</td>\n",
       "      <td>United Kingdom</td>\n",
       "      <td>L</td>\n",
       "      <td>FC</td>\n",
       "      <td>VH</td>\n",
       "      <td>A</td>\n",
       "      <td>100.0</td>\n",
       "      <td>...</td>\n",
       "      <td>64</td>\n",
       "      <td>95.8</td>\n",
       "      <td>85</td>\n",
       "      <td>99.9</td>\n",
       "      <td>7</td>\n",
       "      <td>100</td>\n",
       "      <td>6</td>\n",
       "      <td>97.3</td>\n",
       "      <td>33=</td>\n",
       "      <td>99.2</td>\n",
       "    </tr>\n",
       "    <tr>\n",
       "      <th>4</th>\n",
       "      <td>3</td>\n",
       "      <td>4</td>\n",
       "      <td>University of Oxford</td>\n",
       "      <td>UK</td>\n",
       "      <td>United Kingdom</td>\n",
       "      <td>L</td>\n",
       "      <td>FC</td>\n",
       "      <td>VH</td>\n",
       "      <td>A</td>\n",
       "      <td>100.0</td>\n",
       "      <td>...</td>\n",
       "      <td>110</td>\n",
       "      <td>98.2</td>\n",
       "      <td>60</td>\n",
       "      <td>100.0</td>\n",
       "      <td>1</td>\n",
       "      <td>100</td>\n",
       "      <td>3</td>\n",
       "      <td>97.8</td>\n",
       "      <td>26=</td>\n",
       "      <td>98.9</td>\n",
       "    </tr>\n",
       "  </tbody>\n",
       "</table>\n",
       "<p>3 rows × 28 columns</p>\n",
       "</div>"
      ],
      "text/plain": [
       "  2024 2023                              Institution Name Location  \\\n",
       "2    1    1  Massachusetts Institute of Technology (MIT)        US   \n",
       "3    2    2                       University of Cambridge       UK   \n",
       "4    3    4                          University of Oxford       UK   \n",
       "\n",
       "       Unnamed: 4 Classification Unnamed: 6 Unnamed: 7 Unnamed: 8  \\\n",
       "2   United States              M         CO         VH          B   \n",
       "3  United Kingdom              L         FC         VH          A   \n",
       "4  United Kingdom              L         FC         VH          A   \n",
       "\n",
       "  Academic Reputation  ... Unnamed: 18 International Students Unnamed: 20  \\\n",
       "2               100.0  ...          56                   88.2         128   \n",
       "3               100.0  ...          64                   95.8          85   \n",
       "4               100.0  ...         110                   98.2          60   \n",
       "\n",
       "  International Research Network Unnamed: 22 Employment Outcomes Unnamed: 24  \\\n",
       "2                           94.3          58                 100           4   \n",
       "3                           99.9           7                 100           6   \n",
       "4                          100.0           1                 100           3   \n",
       "\n",
       "  Sustainability Unnamed: 26 Overall  \n",
       "2           95.2          51   100.0  \n",
       "3           97.3         33=    99.2  \n",
       "4           97.8         26=    98.9  \n",
       "\n",
       "[3 rows x 28 columns]"
      ]
     },
     "execution_count": 43,
     "metadata": {},
     "output_type": "execute_result"
    }
   ],
   "source": [
    "df_rank.head(3)"
   ]
  },
  {
   "cell_type": "code",
   "execution_count": 44,
   "id": "1dab7aa0-5e2b-4788-95ce-d3f3bb0d8bba",
   "metadata": {
    "scrolled": true
   },
   "outputs": [
    {
     "data": {
      "text/html": [
       "<div>\n",
       "<style scoped>\n",
       "    .dataframe tbody tr th:only-of-type {\n",
       "        vertical-align: middle;\n",
       "    }\n",
       "\n",
       "    .dataframe tbody tr th {\n",
       "        vertical-align: top;\n",
       "    }\n",
       "\n",
       "    .dataframe thead th {\n",
       "        text-align: right;\n",
       "    }\n",
       "</style>\n",
       "<table border=\"1\" class=\"dataframe\">\n",
       "  <thead>\n",
       "    <tr style=\"text-align: right;\">\n",
       "      <th></th>\n",
       "      <th>2024</th>\n",
       "      <th>2023</th>\n",
       "      <th>Institution Name</th>\n",
       "      <th>Location</th>\n",
       "      <th>Unnamed: 4</th>\n",
       "      <th>Classification</th>\n",
       "      <th>Unnamed: 6</th>\n",
       "      <th>Unnamed: 7</th>\n",
       "      <th>Unnamed: 8</th>\n",
       "      <th>Academic Reputation</th>\n",
       "      <th>...</th>\n",
       "      <th>Unnamed: 18</th>\n",
       "      <th>International Students</th>\n",
       "      <th>Unnamed: 20</th>\n",
       "      <th>International Research Network</th>\n",
       "      <th>Unnamed: 22</th>\n",
       "      <th>Employment Outcomes</th>\n",
       "      <th>Unnamed: 24</th>\n",
       "      <th>Sustainability</th>\n",
       "      <th>Unnamed: 26</th>\n",
       "      <th>Overall</th>\n",
       "    </tr>\n",
       "  </thead>\n",
       "  <tbody>\n",
       "    <tr>\n",
       "      <th>count</th>\n",
       "      <td>1498</td>\n",
       "      <td>1415</td>\n",
       "      <td>1498</td>\n",
       "      <td>1498</td>\n",
       "      <td>1498</td>\n",
       "      <td>1475</td>\n",
       "      <td>1497</td>\n",
       "      <td>1411</td>\n",
       "      <td>1453</td>\n",
       "      <td>1498</td>\n",
       "      <td>...</td>\n",
       "      <td>1372</td>\n",
       "      <td>1418</td>\n",
       "      <td>1418</td>\n",
       "      <td>1494</td>\n",
       "      <td>1494</td>\n",
       "      <td>1474</td>\n",
       "      <td>1474</td>\n",
       "      <td>1398</td>\n",
       "      <td>1398</td>\n",
       "      <td>1498</td>\n",
       "    </tr>\n",
       "    <tr>\n",
       "      <th>unique</th>\n",
       "      <td>380</td>\n",
       "      <td>333</td>\n",
       "      <td>1498</td>\n",
       "      <td>104</td>\n",
       "      <td>104</td>\n",
       "      <td>4</td>\n",
       "      <td>4</td>\n",
       "      <td>4</td>\n",
       "      <td>3</td>\n",
       "      <td>477</td>\n",
       "      <td>...</td>\n",
       "      <td>681</td>\n",
       "      <td>524</td>\n",
       "      <td>685</td>\n",
       "      <td>553</td>\n",
       "      <td>699</td>\n",
       "      <td>449</td>\n",
       "      <td>690</td>\n",
       "      <td>399</td>\n",
       "      <td>343</td>\n",
       "      <td>352</td>\n",
       "    </tr>\n",
       "    <tr>\n",
       "      <th>top</th>\n",
       "      <td>1201-1400</td>\n",
       "      <td>801-1000</td>\n",
       "      <td>Massachusetts Institute of Technology (MIT)</td>\n",
       "      <td>US</td>\n",
       "      <td>United States</td>\n",
       "      <td>L</td>\n",
       "      <td>FC</td>\n",
       "      <td>VH</td>\n",
       "      <td>A</td>\n",
       "      <td>5.7</td>\n",
       "      <td>...</td>\n",
       "      <td>701+</td>\n",
       "      <td>1.1</td>\n",
       "      <td>701+</td>\n",
       "      <td>1.0</td>\n",
       "      <td>701+</td>\n",
       "      <td>7.9</td>\n",
       "      <td>701+</td>\n",
       "      <td>1</td>\n",
       "      <td>701+</td>\n",
       "      <td>-</td>\n",
       "    </tr>\n",
       "    <tr>\n",
       "      <th>freq</th>\n",
       "      <td>206</td>\n",
       "      <td>204</td>\n",
       "      <td>1</td>\n",
       "      <td>199</td>\n",
       "      <td>199</td>\n",
       "      <td>689</td>\n",
       "      <td>596</td>\n",
       "      <td>923</td>\n",
       "      <td>1156</td>\n",
       "      <td>21</td>\n",
       "      <td>...</td>\n",
       "      <td>685</td>\n",
       "      <td>36</td>\n",
       "      <td>728</td>\n",
       "      <td>281</td>\n",
       "      <td>791</td>\n",
       "      <td>20</td>\n",
       "      <td>782</td>\n",
       "      <td>174</td>\n",
       "      <td>698</td>\n",
       "      <td>896</td>\n",
       "    </tr>\n",
       "  </tbody>\n",
       "</table>\n",
       "<p>4 rows × 28 columns</p>\n",
       "</div>"
      ],
      "text/plain": [
       "             2024      2023                              Institution Name  \\\n",
       "count        1498      1415                                          1498   \n",
       "unique        380       333                                          1498   \n",
       "top     1201-1400  801-1000  Massachusetts Institute of Technology (MIT)    \n",
       "freq          206       204                                             1   \n",
       "\n",
       "       Location     Unnamed: 4 Classification Unnamed: 6 Unnamed: 7  \\\n",
       "count      1498           1498           1475       1497       1411   \n",
       "unique      104            104              4          4          4   \n",
       "top          US  United States              L         FC         VH   \n",
       "freq        199            199            689        596        923   \n",
       "\n",
       "       Unnamed: 8 Academic Reputation  ... Unnamed: 18 International Students  \\\n",
       "count        1453                1498  ...        1372                   1418   \n",
       "unique          3                 477  ...         681                    524   \n",
       "top             A                 5.7  ...        701+                    1.1   \n",
       "freq         1156                  21  ...         685                     36   \n",
       "\n",
       "       Unnamed: 20 International Research Network Unnamed: 22  \\\n",
       "count         1418                           1494        1494   \n",
       "unique         685                            553         699   \n",
       "top           701+                            1.0        701+   \n",
       "freq           728                            281         791   \n",
       "\n",
       "       Employment Outcomes Unnamed: 24 Sustainability Unnamed: 26 Overall  \n",
       "count                 1474        1474           1398        1398    1498  \n",
       "unique                 449         690            399         343     352  \n",
       "top                    7.9        701+              1        701+       -  \n",
       "freq                    20         782            174         698     896  \n",
       "\n",
       "[4 rows x 28 columns]"
      ]
     },
     "execution_count": 44,
     "metadata": {},
     "output_type": "execute_result"
    }
   ],
   "source": [
    "df_rank.describe()"
   ]
  },
  {
   "cell_type": "markdown",
   "id": "1efc68bc-baec-4880-89ba-795c53b2e95c",
   "metadata": {
    "scrolled": true
   },
   "source": [
    "В таблице 1498 университетов"
   ]
  },
  {
   "cell_type": "markdown",
   "id": "a17e8435-5496-4ab5-a5b1-a67a65f74d51",
   "metadata": {},
   "source": [
    "### Присоединим информацию по рангам к нашей таблице"
   ]
  },
  {
   "cell_type": "code",
   "execution_count": 45,
   "id": "f0d34b42-b7bc-46a9-85ce-b32a1e7b810c",
   "metadata": {},
   "outputs": [],
   "source": [
    "participants_univer = participants_univer.copy()\n",
    "participants_univer['name'].fillna('unknown', inplace=True)"
   ]
  },
  {
   "cell_type": "code",
   "execution_count": 46,
   "id": "ceaa7f1d-df01-4a61-a42a-c39c512c98f7",
   "metadata": {
    "scrolled": true
   },
   "outputs": [],
   "source": [
    "participants_univer['merged_name'] = participants_univer['name'].str.lower().apply(lambda x: x.split('(')[0])\n",
    "df_rank['merged_name'] = df_rank['Institution Name'].str.lower().apply(lambda x: x.split('(')[0])"
   ]
  },
  {
   "cell_type": "code",
   "execution_count": 47,
   "id": "ff926ba7-b371-458a-bdbe-0c9480fb7633",
   "metadata": {},
   "outputs": [],
   "source": [
    "df_final = pd.merge(participants_univer, df_rank[['2024', 'merged_name']], left_on='merged_name', right_on='merged_name', how='left')"
   ]
  },
  {
   "cell_type": "code",
   "execution_count": 48,
   "id": "1e8b6d40-2989-4f94-8d93-a8f2720b09d7",
   "metadata": {},
   "outputs": [
    {
     "data": {
      "text/html": [
       "<div>\n",
       "<style scoped>\n",
       "    .dataframe tbody tr th:only-of-type {\n",
       "        vertical-align: middle;\n",
       "    }\n",
       "\n",
       "    .dataframe tbody tr th {\n",
       "        vertical-align: top;\n",
       "    }\n",
       "\n",
       "    .dataframe thead th {\n",
       "        text-align: right;\n",
       "    }\n",
       "</style>\n",
       "<table border=\"1\" class=\"dataframe\">\n",
       "  <thead>\n",
       "    <tr style=\"text-align: right;\">\n",
       "      <th></th>\n",
       "      <th>free_description_company</th>\n",
       "      <th>Web address</th>\n",
       "      <th>Contact Name</th>\n",
       "      <th>First Name</th>\n",
       "      <th>Middle Name</th>\n",
       "      <th>Last Name</th>\n",
       "      <th>Title</th>\n",
       "      <th>Address</th>\n",
       "      <th>Address1</th>\n",
       "      <th>City</th>\n",
       "      <th>...</th>\n",
       "      <th>temp_join_column</th>\n",
       "      <th>alpha_two_code</th>\n",
       "      <th>domains</th>\n",
       "      <th>web_pages</th>\n",
       "      <th>name</th>\n",
       "      <th>state-province</th>\n",
       "      <th>country</th>\n",
       "      <th>top_level_domain_y</th>\n",
       "      <th>merged_name</th>\n",
       "      <th>2024</th>\n",
       "    </tr>\n",
       "  </thead>\n",
       "  <tbody>\n",
       "    <tr>\n",
       "      <th>0</th>\n",
       "      <td>EMORY HEALTHCARE</td>\n",
       "      <td>http://www.emoryhealthcare.org</td>\n",
       "      <td>Aalok Bipin Turakhia</td>\n",
       "      <td>Aalok</td>\n",
       "      <td>Bipin</td>\n",
       "      <td>Turakhia</td>\n",
       "      <td>Psychologist</td>\n",
       "      <td>1364 Clifton Rd Ne</td>\n",
       "      <td>--</td>\n",
       "      <td>Atlanta</td>\n",
       "      <td>...</td>\n",
       "      <td>emory.edu</td>\n",
       "      <td>US</td>\n",
       "      <td>emory.edu</td>\n",
       "      <td>[http://www.emory.edu/]</td>\n",
       "      <td>Emory University</td>\n",
       "      <td>None</td>\n",
       "      <td>United States</td>\n",
       "      <td>edu</td>\n",
       "      <td>emory university</td>\n",
       "      <td>166</td>\n",
       "    </tr>\n",
       "    <tr>\n",
       "      <th>1</th>\n",
       "      <td>CANCER CARE CENTERS OF SOUTHWEST TEXAS</td>\n",
       "      <td>http://www.cancercaresouthtexas.com</td>\n",
       "      <td>Aaron Cobarruvias</td>\n",
       "      <td>Aaron</td>\n",
       "      <td>--</td>\n",
       "      <td>Cobarruvias</td>\n",
       "      <td>Psychologist</td>\n",
       "      <td>7703 Floyd Curl Dr</td>\n",
       "      <td>--</td>\n",
       "      <td>San Antonio</td>\n",
       "      <td>...</td>\n",
       "      <td>None</td>\n",
       "      <td>NaN</td>\n",
       "      <td>NaN</td>\n",
       "      <td>NaN</td>\n",
       "      <td>unknown</td>\n",
       "      <td>NaN</td>\n",
       "      <td>NaN</td>\n",
       "      <td>NaN</td>\n",
       "      <td>unknown</td>\n",
       "      <td>NaN</td>\n",
       "    </tr>\n",
       "    <tr>\n",
       "      <th>2</th>\n",
       "      <td>NORTHWESTERN MEMORIAL HOSPITAL</td>\n",
       "      <td>http://www.nmh.org</td>\n",
       "      <td>Aaron S Reichlin</td>\n",
       "      <td>Aaron</td>\n",
       "      <td>S</td>\n",
       "      <td>Reichlin</td>\n",
       "      <td>Psychologist</td>\n",
       "      <td>251 E Huron Street</td>\n",
       "      <td>--</td>\n",
       "      <td>Chicago</td>\n",
       "      <td>...</td>\n",
       "      <td>northwestern.edu</td>\n",
       "      <td>US</td>\n",
       "      <td>northwestern.edu</td>\n",
       "      <td>[http://www.northwestern.edu/]</td>\n",
       "      <td>Northwestern University</td>\n",
       "      <td>None</td>\n",
       "      <td>United States</td>\n",
       "      <td>edu</td>\n",
       "      <td>northwestern university</td>\n",
       "      <td>=47</td>\n",
       "    </tr>\n",
       "    <tr>\n",
       "      <th>3</th>\n",
       "      <td>UNIVERSITY OF TEXAS HEALTH SCIENCE CENTER AT S...</td>\n",
       "      <td>http://www.uthscsa.edu</td>\n",
       "      <td>Aaron P Edwards</td>\n",
       "      <td>Aaron</td>\n",
       "      <td>P</td>\n",
       "      <td>Edwards</td>\n",
       "      <td>Psychologist</td>\n",
       "      <td>7703 Floyd Curl Drive</td>\n",
       "      <td>--</td>\n",
       "      <td>San Antonio</td>\n",
       "      <td>...</td>\n",
       "      <td>None</td>\n",
       "      <td>NaN</td>\n",
       "      <td>NaN</td>\n",
       "      <td>NaN</td>\n",
       "      <td>unknown</td>\n",
       "      <td>NaN</td>\n",
       "      <td>NaN</td>\n",
       "      <td>NaN</td>\n",
       "      <td>unknown</td>\n",
       "      <td>NaN</td>\n",
       "    </tr>\n",
       "    <tr>\n",
       "      <th>4</th>\n",
       "      <td>UNIVERSITY OF IOWA HOSPITALS AND CLINICS</td>\n",
       "      <td>http://www.uiowa.edu</td>\n",
       "      <td>Aaron Kauer</td>\n",
       "      <td>Aaron</td>\n",
       "      <td>--</td>\n",
       "      <td>Kauer</td>\n",
       "      <td>Psychologist</td>\n",
       "      <td>200 Hawkins Drive</td>\n",
       "      <td>--</td>\n",
       "      <td>Iowa City</td>\n",
       "      <td>...</td>\n",
       "      <td>uiowa.edu</td>\n",
       "      <td>US</td>\n",
       "      <td>uiowa.edu</td>\n",
       "      <td>[http://www.uiowa.edu/]</td>\n",
       "      <td>University of Iowa</td>\n",
       "      <td>None</td>\n",
       "      <td>United States</td>\n",
       "      <td>edu</td>\n",
       "      <td>university of iowa</td>\n",
       "      <td>=491</td>\n",
       "    </tr>\n",
       "  </tbody>\n",
       "</table>\n",
       "<p>5 rows × 30 columns</p>\n",
       "</div>"
      ],
      "text/plain": [
       "                            free_description_company  \\\n",
       "0                                   EMORY HEALTHCARE   \n",
       "1             CANCER CARE CENTERS OF SOUTHWEST TEXAS   \n",
       "2                     NORTHWESTERN MEMORIAL HOSPITAL   \n",
       "3  UNIVERSITY OF TEXAS HEALTH SCIENCE CENTER AT S...   \n",
       "4           UNIVERSITY OF IOWA HOSPITALS AND CLINICS   \n",
       "\n",
       "                           Web address          Contact Name First Name  \\\n",
       "0       http://www.emoryhealthcare.org  Aalok Bipin Turakhia      Aalok   \n",
       "1  http://www.cancercaresouthtexas.com     Aaron Cobarruvias      Aaron   \n",
       "2                   http://www.nmh.org      Aaron S Reichlin      Aaron   \n",
       "3               http://www.uthscsa.edu       Aaron P Edwards      Aaron   \n",
       "4                 http://www.uiowa.edu           Aaron Kauer      Aaron   \n",
       "\n",
       "  Middle Name    Last Name         Title                Address Address1  \\\n",
       "0       Bipin     Turakhia  Psychologist     1364 Clifton Rd Ne       --   \n",
       "1          --  Cobarruvias  Psychologist     7703 Floyd Curl Dr       --   \n",
       "2           S     Reichlin  Psychologist     251 E Huron Street       --   \n",
       "3           P      Edwards  Psychologist  7703 Floyd Curl Drive       --   \n",
       "4          --        Kauer  Psychologist      200 Hawkins Drive       --   \n",
       "\n",
       "          City  ...  temp_join_column alpha_two_code           domains  \\\n",
       "0      Atlanta  ...         emory.edu             US         emory.edu   \n",
       "1  San Antonio  ...              None            NaN               NaN   \n",
       "2      Chicago  ...  northwestern.edu             US  northwestern.edu   \n",
       "3  San Antonio  ...              None            NaN               NaN   \n",
       "4    Iowa City  ...         uiowa.edu             US         uiowa.edu   \n",
       "\n",
       "                        web_pages                     name state-province  \\\n",
       "0         [http://www.emory.edu/]         Emory University           None   \n",
       "1                             NaN                  unknown            NaN   \n",
       "2  [http://www.northwestern.edu/]  Northwestern University           None   \n",
       "3                             NaN                  unknown            NaN   \n",
       "4         [http://www.uiowa.edu/]       University of Iowa           None   \n",
       "\n",
       "         country top_level_domain_y              merged_name  2024  \n",
       "0  United States                edu         emory university   166  \n",
       "1            NaN                NaN                  unknown   NaN  \n",
       "2  United States                edu  northwestern university   =47  \n",
       "3            NaN                NaN                  unknown   NaN  \n",
       "4  United States                edu       university of iowa  =491  \n",
       "\n",
       "[5 rows x 30 columns]"
      ]
     },
     "execution_count": 48,
     "metadata": {},
     "output_type": "execute_result"
    }
   ],
   "source": [
    "df_final.head()"
   ]
  },
  {
   "cell_type": "code",
   "execution_count": 49,
   "id": "2de8e8ad-b364-4eac-8d32-fc92285141cc",
   "metadata": {},
   "outputs": [
    {
     "data": {
      "text/plain": [
       "array(['1001-1200', '104', '11', '111', '112', '118', '12', '1201-1400',\n",
       "       '13', '136', '16', '166', '168', '205', '23', '261', '28', '3',\n",
       "       '30', '4', '42', '57', '63', '631-640', '641-650', '671-680',\n",
       "       '681-690', '691-700', '721-730', '751-760', '761-770', '791-800',\n",
       "       '801-850', '83', '851-900', '901-950', '951-1000', '97', '=189',\n",
       "       '=237', '=340', '=375', '=441', '=469', '=47', '=491', '=498',\n",
       "       '=545', '=548', '=563', '=575', '=593', '=600', '=73', '=93', nan],\n",
       "      dtype=object)"
      ]
     },
     "execution_count": 49,
     "metadata": {},
     "output_type": "execute_result"
    }
   ],
   "source": [
    "df_final['2024'].sort_values().unique()"
   ]
  },
  {
   "cell_type": "code",
   "execution_count": 50,
   "id": "c5c4b2a7-0648-4d6a-9d1e-5f5e5772a1e0",
   "metadata": {},
   "outputs": [
    {
     "data": {
      "text/plain": [
       "905"
      ]
     },
     "execution_count": 50,
     "metadata": {},
     "output_type": "execute_result"
    }
   ],
   "source": [
    "df_final[df_final['2024'].notna()]['name'].count()"
   ]
  },
  {
   "cell_type": "code",
   "execution_count": 51,
   "id": "baf8953e-34c0-4261-9e02-0db94477e7e8",
   "metadata": {},
   "outputs": [
    {
     "data": {
      "text/plain": [
       "203"
      ]
     },
     "execution_count": 51,
     "metadata": {},
     "output_type": "execute_result"
    }
   ],
   "source": [
    "df_final[df_final['2024'].isna()]['name'].nunique()"
   ]
  },
  {
   "cell_type": "code",
   "execution_count": 52,
   "id": "b6a3590b-d1a2-4df0-9471-c4bfdc16bea5",
   "metadata": {},
   "outputs": [
    {
     "data": {
      "text/plain": [
       "70"
      ]
     },
     "execution_count": 52,
     "metadata": {},
     "output_type": "execute_result"
    }
   ],
   "source": [
    "df_final[df_final['2024'].notna()]['name'].nunique()"
   ]
  },
  {
   "cell_type": "code",
   "execution_count": 53,
   "id": "690db438-feb8-439c-92d8-f3cc898accb4",
   "metadata": {},
   "outputs": [
    {
     "data": {
      "text/html": [
       "<div>\n",
       "<style scoped>\n",
       "    .dataframe tbody tr th:only-of-type {\n",
       "        vertical-align: middle;\n",
       "    }\n",
       "\n",
       "    .dataframe tbody tr th {\n",
       "        vertical-align: top;\n",
       "    }\n",
       "\n",
       "    .dataframe thead th {\n",
       "        text-align: right;\n",
       "    }\n",
       "</style>\n",
       "<table border=\"1\" class=\"dataframe\">\n",
       "  <thead>\n",
       "    <tr style=\"text-align: right;\">\n",
       "      <th></th>\n",
       "      <th>free_description_company</th>\n",
       "      <th>Web address</th>\n",
       "      <th>Contact Name</th>\n",
       "      <th>First Name</th>\n",
       "      <th>Middle Name</th>\n",
       "      <th>Last Name</th>\n",
       "      <th>Title</th>\n",
       "      <th>Address</th>\n",
       "      <th>Address1</th>\n",
       "      <th>City</th>\n",
       "      <th>...</th>\n",
       "      <th>temp_join_column</th>\n",
       "      <th>alpha_two_code</th>\n",
       "      <th>domains</th>\n",
       "      <th>web_pages</th>\n",
       "      <th>name</th>\n",
       "      <th>state-province</th>\n",
       "      <th>country</th>\n",
       "      <th>top_level_domain_y</th>\n",
       "      <th>merged_name</th>\n",
       "      <th>2024</th>\n",
       "    </tr>\n",
       "  </thead>\n",
       "  <tbody>\n",
       "    <tr>\n",
       "      <th>count</th>\n",
       "      <td>1531</td>\n",
       "      <td>1531</td>\n",
       "      <td>1531</td>\n",
       "      <td>1531</td>\n",
       "      <td>1531</td>\n",
       "      <td>1531</td>\n",
       "      <td>1531</td>\n",
       "      <td>1531</td>\n",
       "      <td>1531</td>\n",
       "      <td>1531</td>\n",
       "      <td>...</td>\n",
       "      <td>1130</td>\n",
       "      <td>1130</td>\n",
       "      <td>1130</td>\n",
       "      <td>1130</td>\n",
       "      <td>1531</td>\n",
       "      <td>42</td>\n",
       "      <td>1130</td>\n",
       "      <td>1130</td>\n",
       "      <td>1531</td>\n",
       "      <td>0</td>\n",
       "    </tr>\n",
       "    <tr>\n",
       "      <th>unique</th>\n",
       "      <td>404</td>\n",
       "      <td>323</td>\n",
       "      <td>1513</td>\n",
       "      <td>811</td>\n",
       "      <td>133</td>\n",
       "      <td>1360</td>\n",
       "      <td>1</td>\n",
       "      <td>524</td>\n",
       "      <td>35</td>\n",
       "      <td>267</td>\n",
       "      <td>...</td>\n",
       "      <td>202</td>\n",
       "      <td>6</td>\n",
       "      <td>202</td>\n",
       "      <td>202</td>\n",
       "      <td>203</td>\n",
       "      <td>12</td>\n",
       "      <td>6</td>\n",
       "      <td>4</td>\n",
       "      <td>203</td>\n",
       "      <td>0</td>\n",
       "    </tr>\n",
       "    <tr>\n",
       "      <th>top</th>\n",
       "      <td>MOUNT SINAI MEDICAL CENTER, INC.</td>\n",
       "      <td>http://www.msmc.com</td>\n",
       "      <td>Pamela Madden</td>\n",
       "      <td>Michael</td>\n",
       "      <td>--</td>\n",
       "      <td>Smith</td>\n",
       "      <td>Psychologist</td>\n",
       "      <td>1 Gustave L Levy Place</td>\n",
       "      <td>--</td>\n",
       "      <td>New York</td>\n",
       "      <td>...</td>\n",
       "      <td>mssm.edu</td>\n",
       "      <td>US</td>\n",
       "      <td>mssm.edu</td>\n",
       "      <td>[http://icahn.mssm.edu/]</td>\n",
       "      <td>unknown</td>\n",
       "      <td>Pennsylvania</td>\n",
       "      <td>United States</td>\n",
       "      <td>edu</td>\n",
       "      <td>unknown</td>\n",
       "      <td>NaN</td>\n",
       "    </tr>\n",
       "    <tr>\n",
       "      <th>freq</th>\n",
       "      <td>148</td>\n",
       "      <td>148</td>\n",
       "      <td>2</td>\n",
       "      <td>24</td>\n",
       "      <td>1153</td>\n",
       "      <td>5</td>\n",
       "      <td>1531</td>\n",
       "      <td>237</td>\n",
       "      <td>1484</td>\n",
       "      <td>292</td>\n",
       "      <td>...</td>\n",
       "      <td>261</td>\n",
       "      <td>1109</td>\n",
       "      <td>261</td>\n",
       "      <td>261</td>\n",
       "      <td>401</td>\n",
       "      <td>15</td>\n",
       "      <td>1109</td>\n",
       "      <td>1114</td>\n",
       "      <td>401</td>\n",
       "      <td>NaN</td>\n",
       "    </tr>\n",
       "  </tbody>\n",
       "</table>\n",
       "<p>4 rows × 30 columns</p>\n",
       "</div>"
      ],
      "text/plain": [
       "                free_description_company          Web address   Contact Name  \\\n",
       "count                               1531                 1531           1531   \n",
       "unique                               404                  323           1513   \n",
       "top     MOUNT SINAI MEDICAL CENTER, INC.  http://www.msmc.com  Pamela Madden   \n",
       "freq                                 148                  148              2   \n",
       "\n",
       "       First Name Middle Name Last Name         Title                 Address  \\\n",
       "count        1531        1531      1531          1531                    1531   \n",
       "unique        811         133      1360             1                     524   \n",
       "top       Michael          --     Smith  Psychologist  1 Gustave L Levy Place   \n",
       "freq           24        1153         5          1531                     237   \n",
       "\n",
       "       Address1      City  ... temp_join_column alpha_two_code   domains  \\\n",
       "count      1531      1531  ...             1130           1130      1130   \n",
       "unique       35       267  ...              202              6       202   \n",
       "top          --  New York  ...         mssm.edu             US  mssm.edu   \n",
       "freq       1484       292  ...              261           1109       261   \n",
       "\n",
       "                       web_pages     name state-province        country  \\\n",
       "count                       1130     1531             42           1130   \n",
       "unique                       202      203             12              6   \n",
       "top     [http://icahn.mssm.edu/]  unknown   Pennsylvania  United States   \n",
       "freq                         261      401             15           1109   \n",
       "\n",
       "       top_level_domain_y merged_name 2024  \n",
       "count                1130        1531    0  \n",
       "unique                  4         203    0  \n",
       "top                   edu     unknown  NaN  \n",
       "freq                 1114         401  NaN  \n",
       "\n",
       "[4 rows x 30 columns]"
      ]
     },
     "execution_count": 53,
     "metadata": {},
     "output_type": "execute_result"
    }
   ],
   "source": [
    "df_final[df_final['2024'].isna()].describe()"
   ]
  },
  {
   "cell_type": "markdown",
   "id": "59104573-aa42-4cbf-a5fb-1dfa70031c31",
   "metadata": {},
   "source": [
    "У нас получилось подтянуть информацию по рангам для 905 участников (70 универститетов, для 203 универститетов совпадений не нашлось)"
   ]
  },
  {
   "cell_type": "markdown",
   "id": "a74963a8-f048-439e-983d-a041d4da3cf8",
   "metadata": {},
   "source": [
    "удалим лишние столбцы"
   ]
  },
  {
   "cell_type": "code",
   "execution_count": 54,
   "id": "c1d075e0-3a33-4d99-be4f-0c89e748eb6d",
   "metadata": {},
   "outputs": [],
   "source": [
    "columns_to_drop = ['temp_join_column', 'email_domain', 'top_level_domain_x', 'domains', 'web_pages', 'state-province', 'country', 'top_level_domain_y', 'merged_name']\n",
    "\n",
    "df_final.drop(columns=columns_to_drop, inplace=True)"
   ]
  },
  {
   "cell_type": "code",
   "execution_count": 55,
   "id": "fd8ab536-f071-4a2c-8b41-15b675731d5b",
   "metadata": {},
   "outputs": [],
   "source": [
    "df_final.rename(columns={'2024': 'rank'}, inplace=True)"
   ]
  },
  {
   "cell_type": "code",
   "execution_count": 56,
   "id": "b590f28e-520a-47ec-8eaf-bdd1355f7bdb",
   "metadata": {},
   "outputs": [
    {
     "data": {
      "text/html": [
       "<div>\n",
       "<style scoped>\n",
       "    .dataframe tbody tr th:only-of-type {\n",
       "        vertical-align: middle;\n",
       "    }\n",
       "\n",
       "    .dataframe tbody tr th {\n",
       "        vertical-align: top;\n",
       "    }\n",
       "\n",
       "    .dataframe thead th {\n",
       "        text-align: right;\n",
       "    }\n",
       "</style>\n",
       "<table border=\"1\" class=\"dataframe\">\n",
       "  <thead>\n",
       "    <tr style=\"text-align: right;\">\n",
       "      <th></th>\n",
       "      <th>free_description_company</th>\n",
       "      <th>Web address</th>\n",
       "      <th>Contact Name</th>\n",
       "      <th>First Name</th>\n",
       "      <th>Middle Name</th>\n",
       "      <th>Last Name</th>\n",
       "      <th>Title</th>\n",
       "      <th>Address</th>\n",
       "      <th>Address1</th>\n",
       "      <th>City</th>\n",
       "      <th>...</th>\n",
       "      <th>ZIP Code</th>\n",
       "      <th>Country</th>\n",
       "      <th>Phone Number</th>\n",
       "      <th>Employees</th>\n",
       "      <th>Revenue</th>\n",
       "      <th>Industry</th>\n",
       "      <th>Email</th>\n",
       "      <th>alpha_two_code</th>\n",
       "      <th>name</th>\n",
       "      <th>rank</th>\n",
       "    </tr>\n",
       "  </thead>\n",
       "  <tbody>\n",
       "    <tr>\n",
       "      <th>0</th>\n",
       "      <td>EMORY HEALTHCARE</td>\n",
       "      <td>http://www.emoryhealthcare.org</td>\n",
       "      <td>Aalok Bipin Turakhia</td>\n",
       "      <td>Aalok</td>\n",
       "      <td>Bipin</td>\n",
       "      <td>Turakhia</td>\n",
       "      <td>Psychologist</td>\n",
       "      <td>1364 Clifton Rd Ne</td>\n",
       "      <td>--</td>\n",
       "      <td>Atlanta</td>\n",
       "      <td>...</td>\n",
       "      <td>30322</td>\n",
       "      <td>USA</td>\n",
       "      <td>404-712-2000</td>\n",
       "      <td>--</td>\n",
       "      <td>--</td>\n",
       "      <td>Healthcare</td>\n",
       "      <td>aalok.turakhia@emory.edu</td>\n",
       "      <td>US</td>\n",
       "      <td>Emory University</td>\n",
       "      <td>166</td>\n",
       "    </tr>\n",
       "    <tr>\n",
       "      <th>1</th>\n",
       "      <td>CANCER CARE CENTERS OF SOUTHWEST TEXAS</td>\n",
       "      <td>http://www.cancercaresouthtexas.com</td>\n",
       "      <td>Aaron Cobarruvias</td>\n",
       "      <td>Aaron</td>\n",
       "      <td>--</td>\n",
       "      <td>Cobarruvias</td>\n",
       "      <td>Psychologist</td>\n",
       "      <td>7703 Floyd Curl Dr</td>\n",
       "      <td>--</td>\n",
       "      <td>San Antonio</td>\n",
       "      <td>...</td>\n",
       "      <td>78229</td>\n",
       "      <td>USA</td>\n",
       "      <td>210-567-7000</td>\n",
       "      <td>10000</td>\n",
       "      <td>$50.00</td>\n",
       "      <td>Healthcare</td>\n",
       "      <td>cobarruviasa@uthscsa.edu</td>\n",
       "      <td>NaN</td>\n",
       "      <td>unknown</td>\n",
       "      <td>NaN</td>\n",
       "    </tr>\n",
       "    <tr>\n",
       "      <th>2</th>\n",
       "      <td>NORTHWESTERN MEMORIAL HOSPITAL</td>\n",
       "      <td>http://www.nmh.org</td>\n",
       "      <td>Aaron S Reichlin</td>\n",
       "      <td>Aaron</td>\n",
       "      <td>S</td>\n",
       "      <td>Reichlin</td>\n",
       "      <td>Psychologist</td>\n",
       "      <td>251 E Huron Street</td>\n",
       "      <td>--</td>\n",
       "      <td>Chicago</td>\n",
       "      <td>...</td>\n",
       "      <td>60611</td>\n",
       "      <td>USA</td>\n",
       "      <td>312-926-2000</td>\n",
       "      <td>7000</td>\n",
       "      <td>$1,290.00</td>\n",
       "      <td>Healthcare</td>\n",
       "      <td>a-reichlin@northwestern.edu</td>\n",
       "      <td>US</td>\n",
       "      <td>Northwestern University</td>\n",
       "      <td>=47</td>\n",
       "    </tr>\n",
       "  </tbody>\n",
       "</table>\n",
       "<p>3 rows × 21 columns</p>\n",
       "</div>"
      ],
      "text/plain": [
       "                 free_description_company  \\\n",
       "0                        EMORY HEALTHCARE   \n",
       "1  CANCER CARE CENTERS OF SOUTHWEST TEXAS   \n",
       "2          NORTHWESTERN MEMORIAL HOSPITAL   \n",
       "\n",
       "                           Web address          Contact Name First Name  \\\n",
       "0       http://www.emoryhealthcare.org  Aalok Bipin Turakhia      Aalok   \n",
       "1  http://www.cancercaresouthtexas.com     Aaron Cobarruvias      Aaron   \n",
       "2                   http://www.nmh.org      Aaron S Reichlin      Aaron   \n",
       "\n",
       "  Middle Name    Last Name         Title             Address Address1  \\\n",
       "0       Bipin     Turakhia  Psychologist  1364 Clifton Rd Ne       --   \n",
       "1          --  Cobarruvias  Psychologist  7703 Floyd Curl Dr       --   \n",
       "2           S     Reichlin  Psychologist  251 E Huron Street       --   \n",
       "\n",
       "          City  ... ZIP Code Country  Phone Number Employees    Revenue  \\\n",
       "0      Atlanta  ...    30322     USA  404-712-2000        --         --   \n",
       "1  San Antonio  ...    78229     USA  210-567-7000     10000     $50.00   \n",
       "2      Chicago  ...    60611     USA  312-926-2000      7000  $1,290.00   \n",
       "\n",
       "     Industry                        Email alpha_two_code  \\\n",
       "0  Healthcare     aalok.turakhia@emory.edu             US   \n",
       "1  Healthcare     cobarruviasa@uthscsa.edu            NaN   \n",
       "2  Healthcare  a-reichlin@northwestern.edu             US   \n",
       "\n",
       "                      name rank  \n",
       "0         Emory University  166  \n",
       "1                  unknown  NaN  \n",
       "2  Northwestern University  =47  \n",
       "\n",
       "[3 rows x 21 columns]"
      ]
     },
     "execution_count": 56,
     "metadata": {},
     "output_type": "execute_result"
    }
   ],
   "source": [
    "df_final.head(3)"
   ]
  },
  {
   "cell_type": "markdown",
   "id": "a4a774f4-ae36-4a0e-bcee-ce7fc9c95db3",
   "metadata": {},
   "source": [
    "## Выводы\n",
    "\n",
    "- У нас 15408 участников конференции, из них от университетов 2436. \n",
    "- Информация по рангу их университета определена для 905 участников."
   ]
  }
 ],
 "metadata": {
  "kernelspec": {
   "display_name": "Python 3 (ipykernel)",
   "language": "python",
   "name": "python3"
  },
  "language_info": {
   "codemirror_mode": {
    "name": "ipython",
    "version": 3
   },
   "file_extension": ".py",
   "mimetype": "text/x-python",
   "name": "python",
   "nbconvert_exporter": "python",
   "pygments_lexer": "ipython3",
   "version": "3.10.12"
  }
 },
 "nbformat": 4,
 "nbformat_minor": 5
}
